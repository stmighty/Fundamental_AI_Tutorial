{
 "cells": [
  {
   "cell_type": "markdown",
   "metadata": {},
   "source": [
    "**<span style=\"color: orange;\">main reference in this notebook </span>**\n",
    "\n",
    "**<span style=\"color: orange;\">link : https://www.geeksforgeeks.org/pass-by-reference-vs-value-in-python/</span>**\n",
    "\n",
    "**<span style=\"color: orange;\">search command : python function pass by value or reference</span>**"
   ]
  },
  {
   "cell_type": "markdown",
   "metadata": {},
   "source": [
    "**<span style=\"color: orange;\">Depending on the type of object you pass in the function, the function behaves differently. Immutable objects show “pass by value” whereas mutable objects show “pass by reference”.</span>**\n",
    "\n",
    "**<span style=\"color: orange;\">immmutable object example : number, string, tuple (you need to reassign value)</span>**\n",
    "\n",
    "**<span style=\"color: orange;\">mutable object example : list, dict (ex. append)</span>**"
   ]
  },
  {
   "cell_type": "markdown",
   "metadata": {},
   "source": [
    "# 0. your own try"
   ]
  },
  {
   "cell_type": "markdown",
   "metadata": {},
   "source": [
    "## 0.1 test immutable object"
   ]
  },
  {
   "cell_type": "code",
   "execution_count": 12,
   "metadata": {},
   "outputs": [
    {
     "name": "stdout",
     "output_type": "stream",
     "text": [
      "'str' object does not support item assignment\n"
     ]
    }
   ],
   "source": [
    "x = \"test\"\n",
    "try :\n",
    "    x[0] = \"a\"\n",
    "except Exception as error :\n",
    "    print(error)"
   ]
  },
  {
   "cell_type": "code",
   "execution_count": 11,
   "metadata": {},
   "outputs": [
    {
     "name": "stdout",
     "output_type": "stream",
     "text": [
      "'tuple' object has no attribute 'append'\n"
     ]
    }
   ],
   "source": [
    "x = (1,2,3,)\n",
    "try :\n",
    "    x.append(4)\n",
    "except Exception as error :\n",
    "    print(error)"
   ]
  },
  {
   "cell_type": "markdown",
   "metadata": {},
   "source": [
    "## 0.2 try passing to the function"
   ]
  },
  {
   "cell_type": "code",
   "execution_count": 1,
   "metadata": {},
   "outputs": [
    {
     "name": "stdout",
     "output_type": "stream",
     "text": [
      "5\n"
     ]
    }
   ],
   "source": [
    "def multiply(x) :\n",
    "    x = x*2\n",
    "    return x\n",
    "\n",
    "test_data = 5\n",
    "y = multiply(test_data)\n",
    "print(test_data)"
   ]
  },
  {
   "cell_type": "code",
   "execution_count": 2,
   "metadata": {},
   "outputs": [
    {
     "name": "stdout",
     "output_type": "stream",
     "text": [
      "[1, 2, 3, 4, 5]\n"
     ]
    }
   ],
   "source": [
    "def append(x) :\n",
    "    x.append(5)\n",
    "    return x\n",
    "test_data = [1,2,3,4]\n",
    "y = append(test_data)\n",
    "print(test_data)"
   ]
  },
  {
   "cell_type": "markdown",
   "metadata": {},
   "source": [
    "# 1. from website"
   ]
  },
  {
   "cell_type": "code",
   "execution_count": 4,
   "metadata": {},
   "outputs": [
    {
     "name": "stdout",
     "output_type": "stream",
     "text": [
      "number before= 6\n",
      "in function value updated to 12\n",
      "after function num value= 6\n",
      "\n",
      "list before ['E']\n",
      "in function list updated to ['E', 'D']\n",
      "after function list is  ['E', 'D']\n"
     ]
    }
   ],
   "source": [
    "\n",
    "def call_by_value(x): \n",
    "    x = x * 2\n",
    "    print(\"in function value updated to\", x) \n",
    "    return\n",
    "  \n",
    "def call_by_reference(list): \n",
    "    list.append(\"D\") \n",
    "    print(\"in function list updated to\", list) \n",
    "    return\n",
    "  \n",
    "my_list = [\"E\"] \n",
    "num = 6\n",
    "print(\"number before=\", num) \n",
    "call_by_value(num) \n",
    "print(\"after function num value=\", num) \n",
    "print()\n",
    "print(\"list before\",my_list) \n",
    "call_by_reference(my_list) \n",
    "print(\"after function list is \",my_list)"
   ]
  }
 ],
 "metadata": {
  "kernelspec": {
   "display_name": "python_knowledge",
   "language": "python",
   "name": "python3"
  },
  "language_info": {
   "codemirror_mode": {
    "name": "ipython",
    "version": 3
   },
   "file_extension": ".py",
   "mimetype": "text/x-python",
   "name": "python",
   "nbconvert_exporter": "python",
   "pygments_lexer": "ipython3",
   "version": "3.8.18"
  }
 },
 "nbformat": 4,
 "nbformat_minor": 2
}
