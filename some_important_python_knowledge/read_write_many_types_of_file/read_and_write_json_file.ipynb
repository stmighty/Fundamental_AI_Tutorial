{
 "cells": [
  {
   "cell_type": "markdown",
   "metadata": {},
   "source": [
    "# Part1. How to read and iterate through json file"
   ]
  },
  {
   "cell_type": "markdown",
   "metadata": {},
   "source": [
    "https://www.geeksforgeeks.org/read-json-file-using-python/"
   ]
  },
  {
   "cell_type": "markdown",
   "metadata": {},
   "source": [
    "## 1.1 json object"
   ]
  },
  {
   "cell_type": "code",
   "execution_count": 104,
   "metadata": {},
   "outputs": [
    {
     "name": "stdout",
     "output_type": "stream",
     "text": [
      "<class 'dict'>\n",
      "{'id': 123456, 'firstName': 'Alex', 'lastName': 'Johnson', 'email': 'alexjohnson@example.com', 'age': 35, 'occupation': 'Data Scientist', 'company': 'Tech Innovations Inc.', 'yearsOfExperience': 10, 'skills': ['Python', 'R', 'Machine Learning', 'Deep Learning', 'Data Visualization'], 'languagesSpoken': ['English', 'Spanish', 'Mandarin'], 'certifications': ['Certified Data Scientist', 'Advanced Machine Learning', 'Deep Learning Specialization'], 'projects': ['Sales Forecasting Model', 'Customer Segmentation', 'Image Recognition System'], 'publications': ['Exploring Data Science Trends', 'Effective Machine Learning Algorithms', 'Advances in Deep Learning Techniques'], 'hobbies': ['Reading', 'Cycling', 'Photography']}\n"
     ]
    }
   ],
   "source": [
    "import json\n",
    " \n",
    "# Opening JSON file\n",
    "f = open('./data/sample_data/1_json_object.json')\n",
    " \n",
    "# a dictionary\n",
    "data = json.load(f)\n",
    "print(type(data))\n",
    "print(data)\n"
   ]
  },
  {
   "cell_type": "code",
   "execution_count": 105,
   "metadata": {},
   "outputs": [
    {
     "name": "stdout",
     "output_type": "stream",
     "text": [
      "key is : id\n",
      "value is : 123456\n",
      "\n",
      "('id', 123456)\n"
     ]
    }
   ],
   "source": [
    "for i in data :\n",
    "    print(\"key is :\", i)\n",
    "    print(\"value is :\", data[i])\n",
    "    print()\n",
    "    break\n",
    "\n",
    "for items in data.items() :\n",
    "    print(items)\n",
    "    break\n",
    "\n",
    "f.close()"
   ]
  },
  {
   "cell_type": "markdown",
   "metadata": {},
   "source": [
    "## 1.2 json array"
   ]
  },
  {
   "cell_type": "code",
   "execution_count": 106,
   "metadata": {},
   "outputs": [
    {
     "name": "stdout",
     "output_type": "stream",
     "text": [
      "<class 'list'>\n",
      "[68, 70, 72, 71, 69, 73, 75, 74, 76, 77, 75, 73, 72, 71, 70, 68, 67, 69, 71, 72, 74, 75, 73, 71, 70, 68, 67, 69, 70, 72]\n",
      "<class 'int'>\n",
      "So, the data is <class 'list'> of <class 'int'>\n"
     ]
    }
   ],
   "source": [
    "import json\n",
    " \n",
    "# Opening JSON file\n",
    "f = open('./data/sample_data/2_json_array.json')\n",
    " \n",
    "# a dictionary\n",
    "data = json.load(f)\n",
    "print(type(data))\n",
    "print(data)\n",
    "print(type(data[0]))\n",
    "\n",
    "\n",
    "print(f\"So, the data is {type(data)} of {type(data[0])}\")\n",
    "\n",
    "f.close()"
   ]
  },
  {
   "cell_type": "markdown",
   "metadata": {},
   "source": [
    "## 1.3 array of object"
   ]
  },
  {
   "cell_type": "code",
   "execution_count": 107,
   "metadata": {},
   "outputs": [
    {
     "name": "stdout",
     "output_type": "stream",
     "text": [
      "<class 'list'>\n",
      "[{'id': 1, 'name': 'Alex Johnson', 'age': 35, 'hobbies': ['Reading', 'Cycling', 'Photography']}, {'id': 2, 'name': 'Maria Garcia', 'age': 28, 'hobbies': ['Painting', 'Hiking', 'Dancing']}, {'id': 3, 'name': 'James Smith', 'age': 40, 'hobbies': ['Cooking', 'Traveling', 'Skiing']}, {'id': 4, 'name': 'Linda Brown', 'age': 32, 'hobbies': ['Gardening', 'Gaming', 'Yoga']}, {'id': 5, 'name': 'David Wilson', 'age': 29, 'hobbies': ['Swimming', 'Running', 'Reading']}]\n",
      "<class 'dict'>\n",
      "{'id': 1, 'name': 'Alex Johnson', 'age': 35, 'hobbies': ['Reading', 'Cycling', 'Photography']}\n",
      "So, the data is <class 'list'> of <class 'dict'>\n"
     ]
    }
   ],
   "source": [
    "import json\n",
    " \n",
    "# Opening JSON file\n",
    "f = open('./data/sample_data/3_json_array_of_object.json')\n",
    " \n",
    "# a dictionary\n",
    "data = json.load(f)\n",
    "print(type(data))\n",
    "print(data)\n",
    "print(type(data[0]))\n",
    "print(data[0])\n",
    "\n",
    "f.close()\n",
    "\n",
    "\n",
    "print(f\"So, the data is {type(data)} of {type(data[0])}\")"
   ]
  },
  {
   "cell_type": "markdown",
   "metadata": {},
   "source": [
    "## 1.4 json_nested_object"
   ]
  },
  {
   "cell_type": "code",
   "execution_count": 108,
   "metadata": {},
   "outputs": [
    {
     "name": "stdout",
     "output_type": "stream",
     "text": [
      "<class 'dict'>\n",
      "{'storeName': 'The Reading Nook', 'location': '123 Book Lane, Library City, 45678', 'inventory': [{'id': 1, 'title': 'Data Science for Beginners', 'author': 'Jane Doe', 'price': 29.99, 'publisher': {'name': 'TechPress Publishing', 'address': '456 Tech Street, Innovation City, 12345'}, 'categories': ['Data Science', 'Programming', 'Technology']}, {'id': 2, 'title': 'Advanced Machine Learning', 'author': 'John Smith', 'price': 39.99, 'publisher': {'name': 'AI Innovations', 'address': '789 AI Avenue, Future Town, 67890'}, 'categories': ['Machine Learning', 'Artificial Intelligence', 'Data Science']}, {'id': 3, 'title': 'Python Programming Essentials', 'author': 'Emily White', 'price': 24.99, 'publisher': {'name': 'CodeWorld Publishers', 'address': '101 Binary Blvd, Code City, 10101'}, 'categories': ['Programming', 'Python', 'Software Development']}]}\n",
      "\n",
      "<class 'str'>\n",
      "The Reading Nook\n",
      "\n",
      "<class 'list'>\n",
      "[{'id': 1, 'title': 'Data Science for Beginners', 'author': 'Jane Doe', 'price': 29.99, 'publisher': {'name': 'TechPress Publishing', 'address': '456 Tech Street, Innovation City, 12345'}, 'categories': ['Data Science', 'Programming', 'Technology']}, {'id': 2, 'title': 'Advanced Machine Learning', 'author': 'John Smith', 'price': 39.99, 'publisher': {'name': 'AI Innovations', 'address': '789 AI Avenue, Future Town, 67890'}, 'categories': ['Machine Learning', 'Artificial Intelligence', 'Data Science']}, {'id': 3, 'title': 'Python Programming Essentials', 'author': 'Emily White', 'price': 24.99, 'publisher': {'name': 'CodeWorld Publishers', 'address': '101 Binary Blvd, Code City, 10101'}, 'categories': ['Programming', 'Python', 'Software Development']}]\n",
      "\n",
      "<class 'dict'>\n",
      "{'id': 1, 'title': 'Data Science for Beginners', 'author': 'Jane Doe', 'price': 29.99, 'publisher': {'name': 'TechPress Publishing', 'address': '456 Tech Street, Innovation City, 12345'}, 'categories': ['Data Science', 'Programming', 'Technology']}\n",
      "\n",
      "<class 'dict'>\n",
      "{'name': 'TechPress Publishing', 'address': '456 Tech Street, Innovation City, 12345'}\n",
      "\n"
     ]
    }
   ],
   "source": [
    "import json\n",
    " \n",
    "# Opening JSON file\n",
    "f = open('./data/sample_data/4_json_nested_object.json')\n",
    " \n",
    "# a dictionary\n",
    "data = json.load(f)\n",
    "print(type(data))\n",
    "print(data)\n",
    "print()\n",
    "\n",
    "print(type(data['storeName']))\n",
    "print(data['storeName'])\n",
    "print()\n",
    "\n",
    "print(type(data['inventory']))\n",
    "print(data['inventory'])\n",
    "print()\n",
    "\n",
    "print(type(data['inventory'][0]))\n",
    "print(data['inventory'][0])\n",
    "print()\n",
    "\n",
    "print(type(data['inventory'][0]['publisher']))\n",
    "print(data['inventory'][0]['publisher'])\n",
    "print()\n",
    "\n",
    "\n",
    "f.close()"
   ]
  },
  {
   "cell_type": "markdown",
   "metadata": {},
   "source": [
    "## 1.5 json_mix_array_and_object"
   ]
  },
  {
   "cell_type": "code",
   "execution_count": null,
   "metadata": {},
   "outputs": [],
   "source": []
  },
  {
   "cell_type": "markdown",
   "metadata": {},
   "source": [
    "# Part2. How to write json file"
   ]
  },
  {
   "cell_type": "markdown",
   "metadata": {},
   "source": [
    "## 2.0 let's use pathlib to get current path and write file"
   ]
  },
  {
   "cell_type": "markdown",
   "metadata": {},
   "source": [
    "pathlib is the more modern way compared to os : https://stackoverflow.com/questions/67112343/pathlib-vs-os-path-join-in-python\n",
    "\n",
    "documentation : https://pathlib.readthedocs.io/en/pep428/\n",
    "\n",
    "Path is a class in the pathlib module of Python"
   ]
  },
  {
   "cell_type": "code",
   "execution_count": 109,
   "metadata": {},
   "outputs": [
    {
     "name": "stdout",
     "output_type": "stream",
     "text": [
      "current path is : /Users/sirasittanrattanawong/Downloads/Fundamental_AI_Tutorial/some_important_python_knowledge/read_write_many_types_of_file\n"
     ]
    }
   ],
   "source": [
    "import json\n",
    "from pathlib import Path\n",
    "directory_path = Path.cwd()\n",
    "print(\"current path is :\", directory_path)"
   ]
  },
  {
   "cell_type": "code",
   "execution_count": 110,
   "metadata": {},
   "outputs": [
    {
     "name": "stdout",
     "output_type": "stream",
     "text": [
      "<class 'pathlib.PosixPath'>\n",
      "data/created_data\n",
      "\n",
      "<class 'pathlib.PosixPath'>\n",
      "data/created_data/1_sample_json_object.json\n"
     ]
    }
   ],
   "source": [
    "relative_path = Path('./data/created_data')\n",
    "relative_path.mkdir(parents=True, exist_ok=True)\n",
    "json_file_path = relative_path / '1_sample_json_object.json'\n",
    "\n",
    "\n",
    "print(type(relative_path))\n",
    "print(relative_path)\n",
    "print()\n",
    "\n",
    "print(type(json_file_path))\n",
    "print(json_file_path)"
   ]
  },
  {
   "cell_type": "code",
   "execution_count": 111,
   "metadata": {},
   "outputs": [],
   "source": [
    " \n",
    "import json\n",
    " \n",
    "# Data to be written\n",
    "dictionary = {\n",
    "    \"id\": 123456,\n",
    "    \"firstName\": \"Alex\",\n",
    "    \"lastName\": \"Johnson\",\n",
    "    \"email\": \"alexjohnson@example.com\",\n",
    "    \"age\": 35,\n",
    "    \"occupation\": \"Data Scientist\",\n",
    "    \"company\": \"Tech Innovations Inc.\",\n",
    "    \"yearsOfExperience\": 10,\n",
    "    \"skills\": [\"Python\", \"R\", \"Machine Learning\", \"Deep Learning\", \"Data Visualization\"],\n",
    "    \"languagesSpoken\": [\"English\", \"Spanish\", \"Mandarin\"],\n",
    "    \"certifications\": [\"Certified Data Scientist\", \"Advanced Machine Learning\", \"Deep Learning Specialization\"],\n",
    "    \"projects\": [\"Sales Forecasting Model\", \"Customer Segmentation\", \"Image Recognition System\"],\n",
    "    \"publications\": [\n",
    "      \"Exploring Data Science Trends\",\n",
    "      \"Effective Machine Learning Algorithms\",\n",
    "      \"Advances in Deep Learning Techniques\"\n",
    "    ],\n",
    "    \"hobbies\": [\"Reading\", \"Cycling\", \"Photography\"]\n",
    "}\n",
    "  \n",
    " \n",
    "# Serializing json\n",
    "json_object = json.dumps(dictionary, indent=4)\n",
    " \n",
    "\n",
    "# Writing to the JSON file using the relative path\n",
    "with json_file_path.open('w', encoding='utf-8') as outfile:\n",
    "    outfile.write(json_object)"
   ]
  },
  {
   "cell_type": "markdown",
   "metadata": {},
   "source": [
    "## 2.1 json object"
   ]
  },
  {
   "cell_type": "markdown",
   "metadata": {},
   "source": [
    "json detail : https://www.geeksforgeeks.org/json-dump-in-python/\n",
    "\n"
   ]
  },
  {
   "cell_type": "code",
   "execution_count": 112,
   "metadata": {},
   "outputs": [],
   "source": [
    " \n",
    "import json \n",
    "dict1 = {\n",
    "    \"id\": 123456,\n",
    "    \"firstName\": \"Alex\",\n",
    "    \"lastName\": \"Johnson\",\n",
    "    \"email\": \"alexjohnson@example.com\",\n",
    "    \"age\": 35,\n",
    "    \"occupation\": \"Data Scientist\",\n",
    "    \"company\": \"Tech Innovations Inc.\",\n",
    "    \"yearsOfExperience\": 10,\n",
    "    \"skills\": [\"Python\", \"R\", \"Machine Learning\", \"Deep Learning\", \"Data Visualization\"],\n",
    "    \"languagesSpoken\": [\"English\", \"Spanish\", \"Mandarin\"],\n",
    "    \"certifications\": [\"Certified Data Scientist\", \"Advanced Machine Learning\", \"Deep Learning Specialization\"],\n",
    "    \"projects\": [\"Sales Forecasting Model\", \"Customer Segmentation\", \"Image Recognition System\"],\n",
    "    \"publications\": [\n",
    "      \"Exploring Data Science Trends\",\n",
    "      \"Effective Machine Learning Algorithms\",\n",
    "      \"Advances in Deep Learning Techniques\"\n",
    "    ],\n",
    "    \"hobbies\": [\"Reading\", \"Cycling\", \"Photography\"]\n",
    "}\n",
    "\n",
    "relative_path = Path('./data/created_data')\n",
    "relative_path.mkdir(parents=True, exist_ok=True)\n",
    "json_file_path = relative_path / '1_sample_json_object.json'\n",
    "\n",
    "\n",
    "# Use json.dump() to write the dict to the file\n",
    "with json_file_path.open('w', encoding='utf-8') as file:\n",
    "    json.dump(dict1, file, ensure_ascii=False, indent=4)\n",
    "\n",
    "\n"
   ]
  },
  {
   "cell_type": "code",
   "execution_count": 113,
   "metadata": {},
   "outputs": [
    {
     "name": "stdout",
     "output_type": "stream",
     "text": [
      "<class 'dict'>\n",
      "{'id': 123456, 'firstName': 'Alex', 'lastName': 'Johnson', 'email': 'alexjohnson@example.com', 'age': 35, 'occupation': 'Data Scientist', 'company': 'Tech Innovations Inc.', 'yearsOfExperience': 10, 'skills': ['Python', 'R', 'Machine Learning', 'Deep Learning', 'Data Visualization'], 'languagesSpoken': ['English', 'Spanish', 'Mandarin'], 'certifications': ['Certified Data Scientist', 'Advanced Machine Learning', 'Deep Learning Specialization'], 'projects': ['Sales Forecasting Model', 'Customer Segmentation', 'Image Recognition System'], 'publications': ['Exploring Data Science Trends', 'Effective Machine Learning Algorithms', 'Advances in Deep Learning Techniques'], 'hobbies': ['Reading', 'Cycling', 'Photography']}\n"
     ]
    }
   ],
   "source": [
    "import json\n",
    " \n",
    "# Opening JSON file\n",
    "f = open('./data/created_data/1_sample_json_object.json')\n",
    " \n",
    "# a dictionary\n",
    "data = json.load(f)\n",
    "print(type(data))\n",
    "print(data)"
   ]
  },
  {
   "cell_type": "markdown",
   "metadata": {},
   "source": [
    "## 2.2 json array"
   ]
  },
  {
   "cell_type": "code",
   "execution_count": 114,
   "metadata": {},
   "outputs": [],
   "source": [
    " \n",
    "import json \n",
    "array = [\n",
    "    68, 70, 72, 71, 69, 73, 75, 74, 76, 77, 75, 73, 72, 71, 70, 68, 67, 69, 71, 72, 74, 75, 73, 71, 70, 68, 67, 69, 70, 72\n",
    "  ]\n",
    "\n",
    "relative_path = Path('./data/created_data')\n",
    "relative_path.mkdir(parents=True, exist_ok=True)\n",
    "json_file_path = relative_path / '2_sample_json_array.json'\n",
    "\n",
    "\n",
    "# Use json.dump() to write the dict to the file\n",
    "with json_file_path.open('w', encoding='utf-8') as file:\n",
    "    json.dump(array, file, ensure_ascii=False, indent=4)"
   ]
  },
  {
   "cell_type": "code",
   "execution_count": 115,
   "metadata": {},
   "outputs": [
    {
     "name": "stdout",
     "output_type": "stream",
     "text": [
      "<class 'list'>\n",
      "[68, 70, 72, 71, 69, 73, 75, 74, 76, 77, 75, 73, 72, 71, 70, 68, 67, 69, 71, 72, 74, 75, 73, 71, 70, 68, 67, 69, 70, 72]\n"
     ]
    }
   ],
   "source": [
    "import json\n",
    " \n",
    "# Opening JSON file\n",
    "f = open('./data/created_data/2_sample_json_array.json')\n",
    " \n",
    "# a dictionary\n",
    "data = json.load(f)\n",
    "print(type(data))\n",
    "print(data)"
   ]
  },
  {
   "cell_type": "markdown",
   "metadata": {},
   "source": [
    "## 2.3 json_array_of_object     ** just read this part you will understand the overall workflow "
   ]
  },
  {
   "cell_type": "code",
   "execution_count": 116,
   "metadata": {},
   "outputs": [
    {
     "name": "stdout",
     "output_type": "stream",
     "text": [
      "<class 'list'>\n",
      "<class 'dict'>\n"
     ]
    }
   ],
   "source": [
    "array_of_object = [\n",
    "  {\n",
    "    \"id\": 1,\n",
    "    \"name\": \"Alex Johnson\",\n",
    "    \"age\": 35,\n",
    "    \"hobbies\": [\"Reading\", \"Cycling\", \"Photography\"]\n",
    "  },\n",
    "  {\n",
    "    \"id\": 2,\n",
    "    \"name\": \"Maria Garcia\",\n",
    "    \"age\": 28,\n",
    "    \"hobbies\": [\"Painting\", \"Hiking\", \"Dancing\"]\n",
    "  },\n",
    "  {\n",
    "    \"id\": 3,\n",
    "    \"name\": \"James Smith\",\n",
    "    \"age\": 40,\n",
    "    \"hobbies\": [\"Cooking\", \"Traveling\", \"Skiing\"]\n",
    "  },\n",
    "  {\n",
    "    \"id\": 4,\n",
    "    \"name\": \"Linda Brown\",\n",
    "    \"age\": 32,\n",
    "    \"hobbies\": [\"Gardening\", \"Gaming\", \"Yoga\"]\n",
    "  },\n",
    "  {\n",
    "    \"id\": 5,\n",
    "    \"name\": \"David Wilson\",\n",
    "    \"age\": 29,\n",
    "    \"hobbies\": [\"Swimming\", \"Running\", \"Reading\"]\n",
    "  }\n",
    "]\n",
    "\n",
    "print(type(array_of_object))\n",
    "print(type(array_of_object[0]))"
   ]
  },
  {
   "cell_type": "markdown",
   "metadata": {},
   "source": [
    "open file using path lib : https://stackoverflow.com/questions/47518669/create-new-folder-with-pathlib-and-write-files-into-it"
   ]
  },
  {
   "cell_type": "code",
   "execution_count": 117,
   "metadata": {},
   "outputs": [],
   "source": [
    "relative_path = Path('./data/created_data')\n",
    "relative_path.mkdir(parents=True, exist_ok=True)\n",
    "json_file_path = relative_path / '3_sample_json_array_of_object.json'\n",
    "\n",
    "\n",
    "# Use json.dump() to write the dict to the file\n",
    "with json_file_path.open('w', encoding='utf-8') as file:\n",
    "    json.dump(array_of_object, file, ensure_ascii=False, indent=4)"
   ]
  },
  {
   "cell_type": "code",
   "execution_count": 118,
   "metadata": {},
   "outputs": [
    {
     "name": "stdout",
     "output_type": "stream",
     "text": [
      "<class 'list'>\n",
      "[{'id': 1, 'name': 'Alex Johnson', 'age': 35, 'hobbies': ['Reading', 'Cycling', 'Photography']}, {'id': 2, 'name': 'Maria Garcia', 'age': 28, 'hobbies': ['Painting', 'Hiking', 'Dancing']}, {'id': 3, 'name': 'James Smith', 'age': 40, 'hobbies': ['Cooking', 'Traveling', 'Skiing']}, {'id': 4, 'name': 'Linda Brown', 'age': 32, 'hobbies': ['Gardening', 'Gaming', 'Yoga']}, {'id': 5, 'name': 'David Wilson', 'age': 29, 'hobbies': ['Swimming', 'Running', 'Reading']}]\n",
      "<class 'dict'>\n",
      "{'id': 1, 'name': 'Alex Johnson', 'age': 35, 'hobbies': ['Reading', 'Cycling', 'Photography']}\n",
      "So, the data is <class 'list'> of <class 'dict'>\n"
     ]
    }
   ],
   "source": [
    "import json\n",
    " \n",
    "# Opening JSON file\n",
    "f = open('./data/created_data/3_sample_json_array_of_object.json')\n",
    " \n",
    "# a dictionary\n",
    "data = json.load(f)\n",
    "print(type(data))\n",
    "print(data)\n",
    "print(type(data[0]))\n",
    "print(data[0])\n",
    "\n",
    "f.close()\n",
    "\n",
    "\n",
    "print(f\"So, the data is {type(data)} of {type(data[0])}\")"
   ]
  },
  {
   "cell_type": "markdown",
   "metadata": {},
   "source": [
    "# Part3. How to preprocess json file"
   ]
  },
  {
   "cell_type": "markdown",
   "metadata": {},
   "source": [
    "## 3.1 json object add key-value "
   ]
  },
  {
   "cell_type": "markdown",
   "metadata": {},
   "source": [
    "1. add key-value"
   ]
  },
  {
   "cell_type": "code",
   "execution_count": 119,
   "metadata": {},
   "outputs": [
    {
     "name": "stdout",
     "output_type": "stream",
     "text": [
      "<class 'dict'>\n",
      "{'id': 123456, 'firstName': 'Alex', 'lastName': 'Johnson', 'email': 'alexjohnson@example.com', 'age': 35, 'occupation': 'Data Scientist', 'company': 'Tech Innovations Inc.', 'yearsOfExperience': 10, 'skills': ['Python', 'R', 'Machine Learning', 'Deep Learning', 'Data Visualization'], 'languagesSpoken': ['English', 'Spanish', 'Mandarin'], 'certifications': ['Certified Data Scientist', 'Advanced Machine Learning', 'Deep Learning Specialization'], 'projects': ['Sales Forecasting Model', 'Customer Segmentation', 'Image Recognition System'], 'publications': ['Exploring Data Science Trends', 'Effective Machine Learning Algorithms', 'Advances in Deep Learning Techniques'], 'hobbies': ['Reading', 'Cycling', 'Photography']}\n"
     ]
    }
   ],
   "source": [
    "import json\n",
    " \n",
    "# Opening JSON file\n",
    "f = open('./data/created_data/1_sample_json_object.json')\n",
    " \n",
    "# a dictionary\n",
    "data = json.load(f)\n",
    "print(type(data))\n",
    "print(data)\n",
    "\n",
    "data['more_key'] = 'more key'"
   ]
  },
  {
   "cell_type": "markdown",
   "metadata": {},
   "source": [
    "2. save file"
   ]
  },
  {
   "cell_type": "code",
   "execution_count": 120,
   "metadata": {},
   "outputs": [],
   "source": [
    "relative_path = Path('./data/created_data')\n",
    "relative_path.mkdir(parents=True, exist_ok=True)\n",
    "json_file_path = relative_path / '1_preprocessed_json_object.json'\n",
    "\n",
    "\n",
    "# Use json.dump() to write the dict to the file\n",
    "with json_file_path.open('w', encoding='utf-8') as file:\n",
    "    json.dump(data, file, ensure_ascii=False, indent=4)"
   ]
  },
  {
   "cell_type": "markdown",
   "metadata": {},
   "source": [
    "3. display"
   ]
  },
  {
   "cell_type": "code",
   "execution_count": 121,
   "metadata": {},
   "outputs": [
    {
     "name": "stdout",
     "output_type": "stream",
     "text": [
      "<class 'dict'>\n",
      "{'id': 123456, 'firstName': 'Alex', 'lastName': 'Johnson', 'email': 'alexjohnson@example.com', 'age': 35, 'occupation': 'Data Scientist', 'company': 'Tech Innovations Inc.', 'yearsOfExperience': 10, 'skills': ['Python', 'R', 'Machine Learning', 'Deep Learning', 'Data Visualization'], 'languagesSpoken': ['English', 'Spanish', 'Mandarin'], 'certifications': ['Certified Data Scientist', 'Advanced Machine Learning', 'Deep Learning Specialization'], 'projects': ['Sales Forecasting Model', 'Customer Segmentation', 'Image Recognition System'], 'publications': ['Exploring Data Science Trends', 'Effective Machine Learning Algorithms', 'Advances in Deep Learning Techniques'], 'hobbies': ['Reading', 'Cycling', 'Photography'], 'more_key': 'more key'}\n"
     ]
    }
   ],
   "source": [
    "import json\n",
    " \n",
    "# Opening JSON file\n",
    "f = open('./data/created_data/1_preprocessed_json_object.json')\n",
    " \n",
    "# a dictionary\n",
    "data = json.load(f)\n",
    "print(type(data))\n",
    "print(data)"
   ]
  },
  {
   "cell_type": "markdown",
   "metadata": {},
   "source": [
    "## 3.2 append json array"
   ]
  },
  {
   "cell_type": "markdown",
   "metadata": {},
   "source": [
    "1. add int"
   ]
  },
  {
   "cell_type": "code",
   "execution_count": 122,
   "metadata": {},
   "outputs": [
    {
     "name": "stdout",
     "output_type": "stream",
     "text": [
      "<class 'list'>\n",
      "[68, 70, 72, 71, 69, 73, 75, 74, 76, 77, 75, 73, 72, 71, 70, 68, 67, 69, 71, 72, 74, 75, 73, 71, 70, 68, 67, 69, 70, 72]\n",
      "<class 'int'>\n",
      "So, the data is <class 'list'> of <class 'int'>\n"
     ]
    }
   ],
   "source": [
    "import json\n",
    " \n",
    "# Opening JSON file\n",
    "f = open('./data/sample_data/2_json_array.json')\n",
    " \n",
    "# a dictionary\n",
    "data = json.load(f)\n",
    "print(type(data))\n",
    "print(data)\n",
    "print(type(data[0]))\n",
    "\n",
    "\n",
    "print(f\"So, the data is {type(data)} of {type(data[0])}\")\n",
    "\n",
    "for i in range(10) :\n",
    "    data.append(100)\n",
    "\n",
    "f.close()"
   ]
  },
  {
   "cell_type": "markdown",
   "metadata": {},
   "source": [
    "2. save file"
   ]
  },
  {
   "cell_type": "code",
   "execution_count": 123,
   "metadata": {},
   "outputs": [],
   "source": [
    "relative_path = Path('./data/created_data')\n",
    "relative_path.mkdir(parents=True, exist_ok=True)\n",
    "json_file_path = relative_path / '2_preprocessed_json_array.json'\n",
    "\n",
    "\n",
    "# Use json.dump() to write the dict to the file\n",
    "with json_file_path.open('w', encoding='utf-8') as file:\n",
    "    json.dump(data, file, ensure_ascii=False, indent=4)"
   ]
  },
  {
   "cell_type": "markdown",
   "metadata": {},
   "source": [
    "3. display"
   ]
  },
  {
   "cell_type": "code",
   "execution_count": 124,
   "metadata": {},
   "outputs": [
    {
     "name": "stdout",
     "output_type": "stream",
     "text": [
      "<class 'list'>\n",
      "[68, 70, 72, 71, 69, 73, 75, 74, 76, 77, 75, 73, 72, 71, 70, 68, 67, 69, 71, 72, 74, 75, 73, 71, 70, 68, 67, 69, 70, 72, 100, 100, 100, 100, 100, 100, 100, 100, 100, 100]\n"
     ]
    }
   ],
   "source": [
    "import json\n",
    " \n",
    "# Opening JSON file\n",
    "f = open('./data/created_data/2_preprocessed_json_array.json')\n",
    " \n",
    "# a dictionary\n",
    "data = json.load(f)\n",
    "print(type(data))\n",
    "print(data)"
   ]
  },
  {
   "cell_type": "markdown",
   "metadata": {},
   "source": [
    "## 3.3 add key for each object array_of_object"
   ]
  },
  {
   "cell_type": "markdown",
   "metadata": {},
   "source": [
    "1. add key"
   ]
  },
  {
   "cell_type": "code",
   "execution_count": 125,
   "metadata": {},
   "outputs": [
    {
     "name": "stdout",
     "output_type": "stream",
     "text": [
      "<class 'list'>\n",
      "[{'id': 1, 'name': 'Alex Johnson', 'age': 35, 'hobbies': ['Reading', 'Cycling', 'Photography']}, {'id': 2, 'name': 'Maria Garcia', 'age': 28, 'hobbies': ['Painting', 'Hiking', 'Dancing']}, {'id': 3, 'name': 'James Smith', 'age': 40, 'hobbies': ['Cooking', 'Traveling', 'Skiing']}, {'id': 4, 'name': 'Linda Brown', 'age': 32, 'hobbies': ['Gardening', 'Gaming', 'Yoga']}, {'id': 5, 'name': 'David Wilson', 'age': 29, 'hobbies': ['Swimming', 'Running', 'Reading']}]\n",
      "<class 'dict'>\n",
      "{'id': 1, 'name': 'Alex Johnson', 'age': 35, 'hobbies': ['Reading', 'Cycling', 'Photography']}\n",
      "So, the data is <class 'list'> of <class 'dict'>\n"
     ]
    }
   ],
   "source": [
    "import json\n",
    " \n",
    "# Opening JSON file\n",
    "f = open('./data/sample_data/3_json_array_of_object.json')\n",
    " \n",
    "# a dictionary\n",
    "data = json.load(f)\n",
    "print(type(data))\n",
    "print(data)\n",
    "print(type(data[0]))\n",
    "print(data[0])\n",
    "\n",
    "f.close()\n",
    "\n",
    "\n",
    "print(f\"So, the data is {type(data)} of {type(data[0])}\")"
   ]
  },
  {
   "cell_type": "code",
   "execution_count": 126,
   "metadata": {},
   "outputs": [],
   "source": [
    "for i in data :\n",
    "    i['addkey'] = 'addkey'\n"
   ]
  },
  {
   "cell_type": "markdown",
   "metadata": {},
   "source": [
    "2. save file"
   ]
  },
  {
   "cell_type": "code",
   "execution_count": 127,
   "metadata": {},
   "outputs": [],
   "source": [
    "relative_path = Path('./data/created_data')\n",
    "relative_path.mkdir(parents=True, exist_ok=True)\n",
    "json_file_path = relative_path / '3_preprocessed_json_array_of_object.json'\n",
    "\n",
    "\n",
    "# Use json.dump() to write the dict to the file\n",
    "with json_file_path.open('w', encoding='utf-8') as file:\n",
    "    json.dump(data, file, ensure_ascii=False, indent=4)"
   ]
  },
  {
   "cell_type": "markdown",
   "metadata": {},
   "source": [
    "3. display"
   ]
  },
  {
   "cell_type": "code",
   "execution_count": 128,
   "metadata": {},
   "outputs": [
    {
     "name": "stdout",
     "output_type": "stream",
     "text": [
      "<class 'list'>\n",
      "[{'id': 1, 'name': 'Alex Johnson', 'age': 35, 'hobbies': ['Reading', 'Cycling', 'Photography'], 'addkey': 'addkey'}, {'id': 2, 'name': 'Maria Garcia', 'age': 28, 'hobbies': ['Painting', 'Hiking', 'Dancing'], 'addkey': 'addkey'}, {'id': 3, 'name': 'James Smith', 'age': 40, 'hobbies': ['Cooking', 'Traveling', 'Skiing'], 'addkey': 'addkey'}, {'id': 4, 'name': 'Linda Brown', 'age': 32, 'hobbies': ['Gardening', 'Gaming', 'Yoga'], 'addkey': 'addkey'}, {'id': 5, 'name': 'David Wilson', 'age': 29, 'hobbies': ['Swimming', 'Running', 'Reading'], 'addkey': 'addkey'}]\n"
     ]
    }
   ],
   "source": [
    "import json\n",
    " \n",
    "# Opening JSON file\n",
    "f = open('./data/created_data/3_preprocessed_json_array_of_object.json')\n",
    " \n",
    "# a dictionary\n",
    "data = json.load(f)\n",
    "print(type(data))\n",
    "print(data)"
   ]
  },
  {
   "cell_type": "markdown",
   "metadata": {},
   "source": [
    "# Part4 validation for json data format"
   ]
  },
  {
   "cell_type": "markdown",
   "metadata": {},
   "source": [
    "detail for validation : https://towardsdatascience.com/how-to-validate-your-json-using-json-schema-f55f4b162dce"
   ]
  },
  {
   "cell_type": "markdown",
   "metadata": {},
   "source": [
    "instance is json data\n",
    "\n",
    "schema is schema of your data"
   ]
  },
  {
   "cell_type": "markdown",
   "metadata": {},
   "source": [
    "## 4.1 json object validation"
   ]
  },
  {
   "cell_type": "code",
   "execution_count": 129,
   "metadata": {},
   "outputs": [
    {
     "name": "stdout",
     "output_type": "stream",
     "text": [
      "<class 'dict'>\n",
      "{'id': 123456, 'firstName': 'Alex', 'lastName': 'Johnson', 'email': 'alexjohnson@example.com', 'age': 35, 'occupation': 'Data Scientist', 'company': 'Tech Innovations Inc.', 'yearsOfExperience': 10, 'skills': ['Python', 'R', 'Machine Learning', 'Deep Learning', 'Data Visualization'], 'languagesSpoken': ['English', 'Spanish', 'Mandarin'], 'certifications': ['Certified Data Scientist', 'Advanced Machine Learning', 'Deep Learning Specialization'], 'projects': ['Sales Forecasting Model', 'Customer Segmentation', 'Image Recognition System'], 'publications': ['Exploring Data Science Trends', 'Effective Machine Learning Algorithms', 'Advances in Deep Learning Techniques'], 'hobbies': ['Reading', 'Cycling', 'Photography']}\n",
      "{'id': 123456, 'firstName': 'Alex', 'lastName': 'Johnson', 'email': 'alexjohnson@example.com', 'age': 35, 'occupation': 'Data Scientist', 'company': 'Tech Innovations Inc.', 'yearsOfExperience': 10, 'skills': ['Python', 'R', 'Machine Learning', 'Deep Learning', 'Data Visualization'], 'languagesSpoken': ['English', 'Spanish', 'Mandarin'], 'certifications': ['Certified Data Scientist', 'Advanced Machine Learning', 'Deep Learning Specialization'], 'projects': ['Sales Forecasting Model', 'Customer Segmentation', 'Image Recognition System'], 'publications': ['Exploring Data Science Trends', 'Effective Machine Learning Algorithms', 'Advances in Deep Learning Techniques'], 'hobbies': ['Reading', 'Cycling', 'Photography']}\n"
     ]
    }
   ],
   "source": [
    "import json\n",
    " \n",
    "# Opening JSON file\n",
    "f = open('./data/sample_data/1_json_object.json')\n",
    " \n",
    "# a dictionary\n",
    "data = json.load(f)\n",
    "print(type(data))\n",
    "print(data)\n",
    "\n",
    "f.close()\n",
    "\n",
    "print(data)"
   ]
  },
  {
   "cell_type": "code",
   "execution_count": 130,
   "metadata": {},
   "outputs": [
    {
     "name": "stdout",
     "output_type": "stream",
     "text": [
      "json format is correct\n"
     ]
    }
   ],
   "source": [
    "# we use number not int \n",
    "from jsonschema import validate\n",
    "\n",
    "schema = {\n",
    " \"type\": \"object\",\n",
    " \"properties\":\n",
    "     {\n",
    "        \"id\": {\"type\":\"number\", },\n",
    "        \"firstName\": {\"type\": \"string\"},\n",
    "        \"lastName\": {\"type\":\"string\"},\n",
    "        \"email\": {\"type\":\"string\"},\n",
    "        \"age\": {\"type\": \"number\"}\n",
    "     },\n",
    " \"required\":[\"firstName\"]\n",
    "}\n",
    "\n",
    "try :\n",
    "    validate(instance=data, schema=schema,)\n",
    "    print(\"json format is correct\")\n",
    "except :\n",
    "    print(\"json format is incorrect\")"
   ]
  },
  {
   "cell_type": "markdown",
   "metadata": {},
   "source": [
    "## 4.2 json array validation"
   ]
  },
  {
   "cell_type": "code",
   "execution_count": 131,
   "metadata": {},
   "outputs": [
    {
     "name": "stdout",
     "output_type": "stream",
     "text": [
      "[68, 70, 72, 71, 69, 73, 75, 74, 76, 77, 75, 73, 72, 71, 70, 68, 67, 69, 71, 72, 74, 75, 73, 71, 70, 68, 67, 69, 70, 72]\n"
     ]
    }
   ],
   "source": [
    "# Opening JSON file\n",
    "f = open('./data/sample_data/2_json_array.json')\n",
    " \n",
    "# a dictionary\n",
    "data = json.load(f)\n",
    "\n",
    "f.close()\n",
    "\n",
    "print(data)"
   ]
  },
  {
   "cell_type": "code",
   "execution_count": 132,
   "metadata": {},
   "outputs": [
    {
     "name": "stdout",
     "output_type": "stream",
     "text": [
      "json format is correct\n"
     ]
    }
   ],
   "source": [
    "# we use number not int \n",
    "from jsonschema import validate\n",
    "\n",
    "schema = {\n",
    "     \"type\" : \"array\",\n",
    "     \"items\" : {\"type\" : \"number\"}\n",
    "}\n",
    "\n",
    "try :\n",
    "    validate(instance=data, schema=schema,)\n",
    "    print(\"json format is correct\")\n",
    "except :\n",
    "    print(\"json format is incorrect\")"
   ]
  },
  {
   "cell_type": "markdown",
   "metadata": {},
   "source": [
    "## 4.3 json array of object validation"
   ]
  },
  {
   "cell_type": "code",
   "execution_count": 133,
   "metadata": {},
   "outputs": [
    {
     "name": "stdout",
     "output_type": "stream",
     "text": [
      "[{'id': 1, 'name': 'Alex Johnson', 'age': 35, 'hobbies': ['Reading', 'Cycling', 'Photography']}, {'id': 2, 'name': 'Maria Garcia', 'age': 28, 'hobbies': ['Painting', 'Hiking', 'Dancing']}, {'id': 3, 'name': 'James Smith', 'age': 40, 'hobbies': ['Cooking', 'Traveling', 'Skiing']}, {'id': 4, 'name': 'Linda Brown', 'age': 32, 'hobbies': ['Gardening', 'Gaming', 'Yoga']}, {'id': 5, 'name': 'David Wilson', 'age': 29, 'hobbies': ['Swimming', 'Running', 'Reading']}]\n"
     ]
    }
   ],
   "source": [
    "import json\n",
    " \n",
    "# Opening JSON file\n",
    "f = open('./data/sample_data/3_json_array_of_object.json')\n",
    " \n",
    "# a dictionary\n",
    "data = json.load(f)\n",
    "f.close()\n",
    "print(data)\n"
   ]
  },
  {
   "cell_type": "code",
   "execution_count": 134,
   "metadata": {},
   "outputs": [
    {
     "name": "stdout",
     "output_type": "stream",
     "text": [
      "json format is correct\n"
     ]
    }
   ],
   "source": [
    "schema = {\n",
    "     \"type\" : \"array\",\n",
    "     \"items\" : \n",
    "          {\"type\" : \"object\",\n",
    "           \"properties\" :\n",
    "                {\"id\": {\"type\":\"number\", },\n",
    "                 \"name\": {\"type\": \"string\"},\n",
    "                 \"hobbies\": {\"type\":\"array\"},\n",
    "                 \"age\": {\"type\": \"number\"}\n",
    "                     \n",
    "                },\n",
    "                \"required\":[\"name\"]\n",
    "                }\n",
    "}\n",
    "\n",
    "try :\n",
    "    validate(instance=data, schema=schema,)\n",
    "    print(\"json format is correct\")\n",
    "except :\n",
    "    print(\"json format is incorrect\")"
   ]
  },
  {
   "cell_type": "markdown",
   "metadata": {},
   "source": [
    "## 4.6 using jsonschema.exceptions import ValidationError"
   ]
  },
  {
   "cell_type": "code",
   "execution_count": 137,
   "metadata": {},
   "outputs": [
    {
     "name": "stdout",
     "output_type": "stream",
     "text": [
      "JSON data is invalid. 'try incorrect' is a required property\n",
      "\n",
      "Failed validating 'required' in schema:\n",
      "    {'$schema': 'http://json-schema.org/draft-07/schema#',\n",
      "     'properties': {'age': {'minimum': 0, 'type': 'integer'},\n",
      "                    'email': {'format': 'email', 'type': 'string'},\n",
      "                    'name': {'type': 'string'}},\n",
      "     'required': ['name', 'age', 'email', 'try incorrect'],\n",
      "     'title': 'Person',\n",
      "     'type': 'object'}\n",
      "\n",
      "On instance:\n",
      "    {'age': 30, 'email': 'john.doe@example.com', 'name': 'John Doe'}\n"
     ]
    }
   ],
   "source": [
    "from jsonschema import validate\n",
    "from jsonschema.exceptions import ValidationError\n",
    "\n",
    "# JSON data\n",
    "person = {\n",
    "  \"name\": \"John Doe\",\n",
    "  \"age\": 30,\n",
    "  \"email\": \"john.doe@example.com\"\n",
    "}\n",
    "\n",
    "# Schema\n",
    "schema = {\n",
    "  \"$schema\": \"http://json-schema.org/draft-07/schema#\",\n",
    "  \"title\": \"Person\",\n",
    "  \"type\": \"object\",\n",
    "  \"properties\": {\n",
    "    \"name\": {\n",
    "      \"type\": \"string\"\n",
    "    },\n",
    "    \"age\": {\n",
    "      \"type\": \"integer\",\n",
    "      \"minimum\": 0\n",
    "    },\n",
    "    \"email\": {\n",
    "      \"type\": \"string\",\n",
    "      \"format\": \"email\"\n",
    "    }\n",
    "  },\n",
    "  \"required\": [\"name\", \"age\", \"email\", \"try incorrect\"]\n",
    "}\n",
    "\n",
    "try:\n",
    "    validate(instance=person, schema=schema)\n",
    "    print(\"JSON data is valid.\")\n",
    "except ValidationError as ve:\n",
    "    print(\"JSON data is invalid.\", ve)"
   ]
  },
  {
   "cell_type": "markdown",
   "metadata": {},
   "source": [
    "# Part5 Error handling"
   ]
  },
  {
   "cell_type": "code",
   "execution_count": 136,
   "metadata": {},
   "outputs": [
    {
     "name": "stdout",
     "output_type": "stream",
     "text": [
      "Failed to parse JSON Expecting property name enclosed in double quotes: line 1 column 22 (char 21)\n"
     ]
    }
   ],
   "source": [
    "import json\n",
    "\n",
    "# Incorrectly formatted JSON string\n",
    "json_string = '{\"name\": \"John Doe\", age: 30}'\n",
    "\n",
    "try:\n",
    "    data = json.loads(json_string)\n",
    "    print(\"JSON data is:\", data)\n",
    "except json.JSONDecodeError as e:\n",
    "    print(\"Failed to parse JSON\", e)\n"
   ]
  },
  {
   "cell_type": "markdown",
   "metadata": {},
   "source": [
    "# Part6. Transforming and Joining JSON Data"
   ]
  },
  {
   "cell_type": "code",
   "execution_count": null,
   "metadata": {},
   "outputs": [],
   "source": []
  },
  {
   "cell_type": "markdown",
   "metadata": {},
   "source": [
    "# Part7. integrate with data science tools ex. pandas data frame"
   ]
  }
 ],
 "metadata": {
  "kernelspec": {
   "display_name": "Python 3",
   "language": "python",
   "name": "python3"
  },
  "language_info": {
   "codemirror_mode": {
    "name": "ipython",
    "version": 3
   },
   "file_extension": ".py",
   "mimetype": "text/x-python",
   "name": "python",
   "nbconvert_exporter": "python",
   "pygments_lexer": "ipython3",
   "version": "3.10.2"
  }
 },
 "nbformat": 4,
 "nbformat_minor": 2
}
