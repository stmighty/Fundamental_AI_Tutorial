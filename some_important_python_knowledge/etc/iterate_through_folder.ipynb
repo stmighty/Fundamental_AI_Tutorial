{
 "cells": [
  {
   "cell_type": "markdown",
   "metadata": {},
   "source": [
    "search command : how to iterate through folder in python\n",
    "\n",
    "website : https://www.geeksforgeeks.org/how-to-iterate-over-files-in-directory-using-python/"
   ]
  },
  {
   "cell_type": "code",
   "execution_count": 3,
   "metadata": {},
   "outputs": [
    {
     "name": "stdout",
     "output_type": "stream",
     "text": [
      "./test_command.py\n",
      "./zip.ipynb\n",
      "./callback.ipynb\n",
      "./Path_os_glob_and_matplotlib_read_image.ipynb\n",
      "./default_arguments_class_and_function.ipynb\n",
      "./lamda_and_map.ipynb\n",
      "./enumerate_and_tqdm.ipynb\n",
      "./fString.ipynb\n",
      "./iterate_through_folder.ipynb\n"
     ]
    }
   ],
   "source": [
    "# import required module\n",
    "import os\n",
    "# assign directory\n",
    "directory = './'\n",
    " \n",
    "# iterate over files in\n",
    "# that directory\n",
    "for filename in os.listdir(directory):\n",
    "    file_path = os.path.join(directory, filename)\n",
    "    # checking if it is a file\n",
    "    if os.path.isfile(file_path):\n",
    "        print(file_path)"
   ]
  }
 ],
 "metadata": {
  "kernelspec": {
   "display_name": "python_knowledge",
   "language": "python",
   "name": "python3"
  },
  "language_info": {
   "codemirror_mode": {
    "name": "ipython",
    "version": 3
   },
   "file_extension": ".py",
   "mimetype": "text/x-python",
   "name": "python",
   "nbconvert_exporter": "python",
   "pygments_lexer": "ipython3",
   "version": "3.8.18"
  }
 },
 "nbformat": 4,
 "nbformat_minor": 2
}
