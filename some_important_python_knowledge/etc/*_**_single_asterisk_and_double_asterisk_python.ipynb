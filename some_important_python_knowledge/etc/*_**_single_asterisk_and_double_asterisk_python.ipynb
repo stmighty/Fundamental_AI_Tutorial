{
 "cells": [
  {
   "cell_type": "markdown",
   "metadata": {},
   "source": [
    "# 1. single asterisk (*args)"
   ]
  },
  {
   "cell_type": "code",
   "execution_count": 2,
   "metadata": {},
   "outputs": [
    {
     "name": "stdout",
     "output_type": "stream",
     "text": [
      "sunday monday tuesday wednesday\n",
      "sunday monday tuesday wednesday\n",
      "sunday monday tuesday wednesday\n"
     ]
    }
   ],
   "source": [
    "arr = ['sunday', 'monday', 'tuesday', 'wednesday']\n",
    "\n",
    "# without using asterisk\n",
    "print(' '.join(map(str,arr))) \n",
    "print(' '.join(arr))\n",
    "\n",
    "# using asterisk\n",
    "print (*arr)"
   ]
  },
  {
   "cell_type": "code",
   "execution_count": 12,
   "metadata": {},
   "outputs": [
    {
     "name": "stdout",
     "output_type": "stream",
     "text": [
      "(5, 10, 20, 6)\n",
      "5 10 20 6\n",
      "41\n"
     ]
    }
   ],
   "source": [
    "# using asterisk\n",
    "def addition(*args):\n",
    "  print(args)\n",
    "  print(*args)\n",
    "  return sum(args)\n",
    "\n",
    "print(addition(5, 10, 20, 6))"
   ]
  },
  {
   "cell_type": "code",
   "execution_count": 14,
   "metadata": {},
   "outputs": [
    {
     "name": "stdout",
     "output_type": "stream",
     "text": [
      "[5, 10, 20, 6]\n",
      "5 10 20 6\n",
      "41\n"
     ]
    }
   ],
   "source": [
    "# using asterisk\n",
    "def addition(args):\n",
    "  print(args)\n",
    "  print(*args)\n",
    "  return sum(args)\n",
    "\n",
    "print(addition([5, 10, 20, 6]))"
   ]
  },
  {
   "cell_type": "code",
   "execution_count": 15,
   "metadata": {},
   "outputs": [
    {
     "name": "stdout",
     "output_type": "stream",
     "text": [
      "Running function with arguments: (3, 5)\n",
      "15\n"
     ]
    }
   ],
   "source": [
    "def wrapper_function(func, *args):\n",
    "    print(\"Running function with arguments:\", args)\n",
    "    return func(*args)\n",
    "\n",
    "# Example wrapped functions\n",
    "def multiply(a, b):\n",
    "    return a * b\n",
    "\n",
    "# Call wrapper with any number of arguments\n",
    "result = wrapper_function(multiply, 3, 5)\n",
    "print(result) # Output: 15\n"
   ]
  },
  {
   "cell_type": "code",
   "execution_count": null,
   "metadata": {},
   "outputs": [],
   "source": []
  },
  {
   "cell_type": "code",
   "execution_count": 16,
   "metadata": {},
   "outputs": [
    {
     "name": "stdout",
     "output_type": "stream",
     "text": [
      "ERROR: File not found\n",
      "  - Filename: data.txt\n",
      "  - Line: 42\n",
      "ERROR: Permission denied\n",
      "  - User: admin\n"
     ]
    }
   ],
   "source": [
    "def log_error(message, details):\n",
    "    print(f\"ERROR: {message}\")\n",
    "    for detail in details:\n",
    "        print(f\"  - {detail}\")\n",
    "\n",
    "# Now we need to call it with a list every time, even if we have only one detail\n",
    "log_error(\"File not found\", [\"Filename: data.txt\", \"Line: 42\"])\n",
    "log_error(\"Permission denied\", [\"User: admin\"])\n"
   ]
  },
  {
   "cell_type": "code",
   "execution_count": 17,
   "metadata": {},
   "outputs": [
    {
     "name": "stdout",
     "output_type": "stream",
     "text": [
      "ERROR: File not found\n",
      "  - Filename: data.txt\n",
      "  - Line: 42\n",
      "ERROR: Permission denied\n",
      "  - User: admin\n",
      "ERROR: Unexpected error\n"
     ]
    }
   ],
   "source": [
    "def log_error(message, *details):\n",
    "    print(f\"ERROR: {message}\")\n",
    "    for detail in details:\n",
    "        print(f\"  - {detail}\")\n",
    "\n",
    "# We can call it naturally without wrapping extra details in a list\n",
    "log_error(\"File not found\", \"Filename: data.txt\", \"Line: 42\")\n",
    "log_error(\"Permission denied\", \"User: admin\")\n",
    "log_error(\"Unexpected error\")\n"
   ]
  },
  {
   "cell_type": "markdown",
   "metadata": {},
   "source": [
    "# 2. double asterisk (**kwargs)"
   ]
  },
  {
   "cell_type": "markdown",
   "metadata": {},
   "source": [
    "## 2.1"
   ]
  },
  {
   "cell_type": "code",
   "execution_count": 24,
   "metadata": {},
   "outputs": [
    {
     "name": "stdout",
     "output_type": "stream",
     "text": [
      "{'username': 'john_doe', 'email': 'john@example.com', 'location': 'New York', 'age': None, 'phone': None}\n"
     ]
    }
   ],
   "source": [
    "def create_user_profile(user_data):\n",
    "    profile = {\n",
    "        \"username\": user_data.get(\"username\"),\n",
    "        \"email\": user_data.get(\"email\"),\n",
    "        \"location\": user_data.get(\"location\"),\n",
    "        \"age\": user_data.get(\"age\"),\n",
    "        \"phone\": user_data.get(\"phone\")\n",
    "    }\n",
    "    return profile\n",
    "\n",
    "# We need to pass all user data as a dictionary\n",
    "user1 = create_user_profile({\n",
    "    \"username\": \"john_doe\",\n",
    "    \"email\": \"john@example.com\",\n",
    "    \"location\": \"New York\"\n",
    "})\n",
    "\n",
    "print(user1)\n"
   ]
  },
  {
   "cell_type": "code",
   "execution_count": 25,
   "metadata": {},
   "outputs": [
    {
     "name": "stdout",
     "output_type": "stream",
     "text": [
      "{'username': 'john_doe', 'email': 'john@example.com', 'location': 'New York', 'age': None, 'phone': None}\n",
      "{'username': 'jane_doe', 'email': None, 'location': None, 'age': 30, 'phone': '123-456-7890'}\n"
     ]
    }
   ],
   "source": [
    "def create_user_profile(**kwargs):\n",
    "    # Using kwargs directly in the profile dictionary\n",
    "    profile = {\n",
    "        \"username\": kwargs.get(\"username\"),\n",
    "        \"email\": kwargs.get(\"email\"),\n",
    "        \"location\": kwargs.get(\"location\"),\n",
    "        \"age\": kwargs.get(\"age\"),\n",
    "        \"phone\": kwargs.get(\"phone\"),\n",
    "        # Other potential user profile fields\n",
    "    }\n",
    "    return profile\n",
    "\n",
    "# Call the function directly with keyword arguments\n",
    "user1 = create_user_profile(username=\"john_doe\", email=\"john@example.com\", location=\"New York\")\n",
    "user2 = create_user_profile(username=\"jane_doe\", age=30, phone=\"123-456-7890\")\n",
    "\n",
    "print(user1)\n",
    "print(user2)\n"
   ]
  },
  {
   "cell_type": "markdown",
   "metadata": {},
   "source": [
    "## 2.2"
   ]
  },
  {
   "cell_type": "code",
   "execution_count": 22,
   "metadata": {},
   "outputs": [
    {
     "name": "stdout",
     "output_type": "stream",
     "text": [
      "Verifying email...\n",
      "Sending welcome email...\n",
      "{'username': 'alice', 'email': 'alice@example.com', 'location': None, 'age': None, 'phone': None}\n"
     ]
    }
   ],
   "source": [
    "def create_user_profile(username=None, email=None, location=None, age=None, phone=None, verify_email=False, send_welcome_email=False):\n",
    "    profile = {\n",
    "        \"username\": username,\n",
    "        \"email\": email,\n",
    "        \"location\": location,\n",
    "        \"age\": age,\n",
    "        \"phone\": phone,\n",
    "    }\n",
    "    # Additional configuration\n",
    "    if verify_email:\n",
    "        print(\"Verifying email...\")\n",
    "    if send_welcome_email:\n",
    "        print(\"Sending welcome email...\")\n",
    "    return profile\n",
    "\n",
    "# Now, calling the function with all parameters explicitly\n",
    "user1 = create_user_profile(username=\"alice\", email=\"alice@example.com\", verify_email=True, send_welcome_email=True)\n",
    "print(user1)\n",
    "\n"
   ]
  },
  {
   "cell_type": "code",
   "execution_count": 23,
   "metadata": {},
   "outputs": [
    {
     "name": "stdout",
     "output_type": "stream",
     "text": [
      "Verifying email...\n",
      "Sending welcome email...\n",
      "{'username': 'alice', 'email': 'alice@example.com'}\n"
     ]
    }
   ],
   "source": [
    "def create_user_profile(username=None, email=None, **kwargs):\n",
    "    profile = {\n",
    "        \"username\": username,\n",
    "        \"email\": email,\n",
    "    }\n",
    "    # Process additional optional fields\n",
    "    if 'location' in kwargs:\n",
    "        profile[\"location\"] = kwargs[\"location\"]\n",
    "    if 'age' in kwargs:\n",
    "        profile[\"age\"] = kwargs[\"age\"]\n",
    "    if 'phone' in kwargs:\n",
    "        profile[\"phone\"] = kwargs[\"phone\"]\n",
    "\n",
    "    # Handle other configuration settings\n",
    "    if kwargs.get(\"verify_email\"):\n",
    "        print(\"Verifying email...\")\n",
    "    if kwargs.get(\"send_welcome_email\"):\n",
    "        print(\"Sending welcome email...\")\n",
    "\n",
    "    return profile\n",
    "\n",
    "# Flexible call without predefined parameters for every optional field\n",
    "user1 = create_user_profile(username=\"alice\", email=\"alice@example.com\", verify_email=True, send_welcome_email=True)\n",
    "print(user1)\n"
   ]
  }
 ],
 "metadata": {
  "kernelspec": {
   "display_name": "python_knowledge",
   "language": "python",
   "name": "python3"
  },
  "language_info": {
   "codemirror_mode": {
    "name": "ipython",
    "version": 3
   },
   "file_extension": ".py",
   "mimetype": "text/x-python",
   "name": "python",
   "nbconvert_exporter": "python",
   "pygments_lexer": "ipython3",
   "version": "3.8.18"
  }
 },
 "nbformat": 4,
 "nbformat_minor": 2
}
