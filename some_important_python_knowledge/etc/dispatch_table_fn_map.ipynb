{
 "cells": [
  {
   "cell_type": "code",
   "execution_count": 6,
   "metadata": {},
   "outputs": [
    {
     "name": "stdout",
     "output_type": "stream",
     "text": [
      "15\n"
     ]
    }
   ],
   "source": [
    "x = lambda a : a + 10\n",
    "print(x(5))"
   ]
  },
  {
   "cell_type": "code",
   "execution_count": 7,
   "metadata": {},
   "outputs": [
    {
     "name": "stdout",
     "output_type": "stream",
     "text": [
      "8\n",
      "15\n",
      "8\n"
     ]
    }
   ],
   "source": [
    "functions = {\n",
    "    \"add\": lambda x, y: x + y,\n",
    "    \"mul\": lambda x, y: x * y\n",
    "}\n",
    "\n",
    "print(functions[\"add\"](5, 3))\n",
    "# 8\n",
    "print(functions[\"mul\"](5, 3))\n",
    "\n",
    "print(functions.get('add')(5,3))"
   ]
  },
  {
   "cell_type": "code",
   "execution_count": 8,
   "metadata": {},
   "outputs": [
    {
     "name": "stdout",
     "output_type": "stream",
     "text": [
      "HELLO\n",
      "olleH\n",
      "5\n",
      "Operation 'capitalize' not supported.\n"
     ]
    }
   ],
   "source": [
    "STRING_FN_MAP = {\n",
    "    'uppercase': lambda s: s.upper(),\n",
    "    'lowercase': lambda s: s.lower(),\n",
    "    'reverse': lambda s: s[::-1],\n",
    "    'length': lambda s: len(s)\n",
    "}\n",
    "\n",
    "def perform_string_operation(operation, string):\n",
    "    \"\"\"\n",
    "    Performs the specified string operation using STRING_FN_MAP.\n",
    "\n",
    "    Args:\n",
    "        operation (str): The name of the operation ('uppercase', 'lowercase', 'reverse', 'length').\n",
    "        string (str): The input string.\n",
    "\n",
    "    Returns:\n",
    "        The result of the operation or an error message if the operation is undefined.\n",
    "    \"\"\"\n",
    "    func = STRING_FN_MAP.get(operation)\n",
    "    if func:\n",
    "        return func(string)\n",
    "    else:\n",
    "        return f\"Operation '{operation}' not supported.\"\n",
    "    \n",
    "print(perform_string_operation('uppercase', 'Hello'))  # Output: HELLO\n",
    "print(perform_string_operation('reverse', 'Hello'))    # Output: olleH\n",
    "print(perform_string_operation('length', 'Hello'))     # Output: 5\n",
    "print(perform_string_operation('capitalize', 'hello')) # Output: Operation 'capitalize' not supported."
   ]
  }
 ],
 "metadata": {
  "kernelspec": {
   "display_name": "python_knowledge",
   "language": "python",
   "name": "python3"
  },
  "language_info": {
   "codemirror_mode": {
    "name": "ipython",
    "version": 3
   },
   "file_extension": ".py",
   "mimetype": "text/x-python",
   "name": "python",
   "nbconvert_exporter": "python",
   "pygments_lexer": "ipython3",
   "version": "3.8.18"
  }
 },
 "nbformat": 4,
 "nbformat_minor": 2
}
