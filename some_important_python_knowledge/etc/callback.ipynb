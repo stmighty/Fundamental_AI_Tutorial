{
 "cells": [
  {
   "cell_type": "code",
   "execution_count": 3,
   "metadata": {},
   "outputs": [
    {
     "name": "stdout",
     "output_type": "stream",
     "text": [
      "Result: 30\n"
     ]
    }
   ],
   "source": [
    "# Callback function\n",
    "def callback_function(x):\n",
    "    return x * 2\n",
    "\n",
    "def higher_order_function(callback, y, z):\n",
    "    return z + callback(y)\n",
    "value = 5\n",
    "\n",
    "# Calling the higher-order function with the callback function\n",
    "result = higher_order_function(callback_function, value, 20)\n",
    "\n",
    "# Output\n",
    "print(\"Result:\", result)  "
   ]
  }
 ],
 "metadata": {
  "kernelspec": {
   "display_name": "python_knowledge",
   "language": "python",
   "name": "python3"
  },
  "language_info": {
   "codemirror_mode": {
    "name": "ipython",
    "version": 3
   },
   "file_extension": ".py",
   "mimetype": "text/x-python",
   "name": "python",
   "nbconvert_exporter": "python",
   "pygments_lexer": "ipython3",
   "version": "3.8.18"
  }
 },
 "nbformat": 4,
 "nbformat_minor": 2
}
