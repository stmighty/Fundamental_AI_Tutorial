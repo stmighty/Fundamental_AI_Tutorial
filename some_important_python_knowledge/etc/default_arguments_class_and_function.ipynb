{
 "cells": [
  {
   "cell_type": "code",
   "execution_count": 7,
   "metadata": {},
   "outputs": [
    {
     "name": "stdout",
     "output_type": "stream",
     "text": [
      "John\n",
      "36\n",
      "male\n",
      "test\n",
      "\n",
      "Jane\n",
      "36\n",
      "female\n",
      "ja\n"
     ]
    }
   ],
   "source": [
    "class Person:\n",
    "    def __init__(self, name, age):\n",
    "        self.name = name\n",
    "        self.age = age\n",
    "        \n",
    "    def assign_surname_and_sex(self, sex, surname=\"test\") :\n",
    "        self.surname = surname\n",
    "        self.sex = sex\n",
    "\n",
    "\n",
    "\n",
    "p1 = Person(\"John\", 36)\n",
    "print(p1.name)\n",
    "print(p1.age)\n",
    "p1.assign_surname_and_sex('male')\n",
    "print(p1.sex)\n",
    "print(p1.surname)\n",
    "print()\n",
    "\n",
    "\n",
    "\n",
    "\n",
    "p2 = Person(\"Jane\", 36)\n",
    "print(p2.name)\n",
    "print(p2.age)\n",
    "p2.assign_surname_and_sex('female', surname=\"ja\")\n",
    "print(p2.sex)\n",
    "print(p2.surname)\n",
    "\n"
   ]
  }
 ],
 "metadata": {
  "kernelspec": {
   "display_name": "python_knowledge",
   "language": "python",
   "name": "python3"
  },
  "language_info": {
   "codemirror_mode": {
    "name": "ipython",
    "version": 3
   },
   "file_extension": ".py",
   "mimetype": "text/x-python",
   "name": "python",
   "nbconvert_exporter": "python",
   "pygments_lexer": "ipython3",
   "version": "3.8.18"
  }
 },
 "nbformat": 4,
 "nbformat_minor": 2
}
