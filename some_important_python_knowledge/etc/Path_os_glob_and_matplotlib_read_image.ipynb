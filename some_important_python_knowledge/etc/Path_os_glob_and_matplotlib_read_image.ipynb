{
 "cells": [
  {
   "cell_type": "markdown",
   "metadata": {},
   "source": [
    "# 1. Path"
   ]
  },
  {
   "cell_type": "markdown",
   "metadata": {},
   "source": [
    "## 1.1 using os.join()"
   ]
  },
  {
   "cell_type": "markdown",
   "metadata": {},
   "source": [
    "### 1.1.1 get current path"
   ]
  },
  {
   "cell_type": "code",
   "execution_count": 1,
   "metadata": {},
   "outputs": [],
   "source": [
    "import os"
   ]
  },
  {
   "cell_type": "code",
   "execution_count": 2,
   "metadata": {},
   "outputs": [
    {
     "name": "stdout",
     "output_type": "stream",
     "text": [
      "current path is : /Users/sirasittanrattanawong/Downloads/Fundamental_AI_Tutorial/some_important_python_knowledge/etc\n",
      "type of current_path is : <class 'str'>\n"
     ]
    }
   ],
   "source": [
    "current_path = os.getcwd()\n",
    "print(\"current path is :\", current_path)\n",
    "print(\"type of current_path is :\", type(current_path))"
   ]
  },
  {
   "cell_type": "markdown",
   "metadata": {},
   "source": [
    "### 1.1.2 join path(ex. dir, filename) using os.path.join"
   ]
  },
  {
   "cell_type": "code",
   "execution_count": 3,
   "metadata": {},
   "outputs": [
    {
     "name": "stdout",
     "output_type": "stream",
     "text": [
      "image dir is : ../../AI_Tutorial_Fundamental/basic_ML_and_Deeplearning/Basic_Knowledge/image\n",
      "type of image_dir is : <class 'str'>\n"
     ]
    }
   ],
   "source": [
    "image_dir = os.path.join('../../AI_Tutorial_Fundamental/basic_ML_and_Deeplearning/Basic_Knowledge', 'image')\n",
    "print(\"image dir is :\", image_dir)\n",
    "print(\"type of image_dir is :\", type(image_dir))\n"
   ]
  },
  {
   "cell_type": "code",
   "execution_count": 4,
   "metadata": {},
   "outputs": [
    {
     "name": "stdout",
     "output_type": "stream",
     "text": [
      "image path is : ../../AI_Tutorial_Fundamental/basic_ML_and_Deeplearning/Basic_Knowledge/image/CNN_architecture.jpg\n",
      "type of image_path is : <class 'str'>\n"
     ]
    }
   ],
   "source": [
    "# Construct the path to the image using os.path.join\n",
    "image_path = os.path.join(image_dir, 'CNN_architecture.jpg')\n",
    "print(\"image path is :\", image_path)\n",
    "print(\"type of image_path is :\", type(image_path))"
   ]
  },
  {
   "cell_type": "code",
   "execution_count": 5,
   "metadata": {},
   "outputs": [
    {
     "name": "stdout",
     "output_type": "stream",
     "text": [
      "../../AI_Tutorial_Fundamental/basic_ML_and_Deeplearning/Basic_Knowledge/image/testing_loop.png\n",
      "<class 'str'>\n",
      "\n",
      "../../AI_Tutorial_Fundamental/basic_ML_and_Deeplearning/Basic_Knowledge/image/neural_network2.jpg\n",
      "<class 'str'>\n",
      "\n",
      "../../AI_Tutorial_Fundamental/basic_ML_and_Deeplearning/Basic_Knowledge/image/.DS_Store\n",
      "<class 'str'>\n",
      "\n",
      "../../AI_Tutorial_Fundamental/basic_ML_and_Deeplearning/Basic_Knowledge/image/random_seed.png\n",
      "<class 'str'>\n",
      "\n",
      "../../AI_Tutorial_Fundamental/basic_ML_and_Deeplearning/Basic_Knowledge/image/metric.png\n",
      "<class 'str'>\n",
      "\n",
      "../../AI_Tutorial_Fundamental/basic_ML_and_Deeplearning/Basic_Knowledge/image/Anatomy_of_neural_network.jpg\n",
      "<class 'str'>\n",
      "\n",
      "../../AI_Tutorial_Fundamental/basic_ML_and_Deeplearning/Basic_Knowledge/image/pytorchDataset.png\n",
      "<class 'str'>\n",
      "\n",
      "../../AI_Tutorial_Fundamental/basic_ML_and_Deeplearning/Basic_Knowledge/image/CNN_architecture.jpg\n",
      "<class 'str'>\n",
      "\n",
      "../../AI_Tutorial_Fundamental/basic_ML_and_Deeplearning/Basic_Knowledge/image/Linear_regression_formula.png\n",
      "<class 'str'>\n",
      "\n",
      "../../AI_Tutorial_Fundamental/basic_ML_and_Deeplearning/Basic_Knowledge/image/backpropagation.png\n",
      "<class 'str'>\n",
      "\n",
      "../../AI_Tutorial_Fundamental/basic_ML_and_Deeplearning/Basic_Knowledge/image/linear_vs_non-linear_function.png\n",
      "<class 'str'>\n",
      "\n",
      "../../AI_Tutorial_Fundamental/basic_ML_and_Deeplearning/Basic_Knowledge/image/Types_of_Learning.jpg\n",
      "<class 'str'>\n",
      "\n",
      "../../AI_Tutorial_Fundamental/basic_ML_and_Deeplearning/Basic_Knowledge/image/buiilding_model.png\n",
      "<class 'str'>\n",
      "\n",
      "../../AI_Tutorial_Fundamental/basic_ML_and_Deeplearning/Basic_Knowledge/image/optimizer_backpropagation.png\n",
      "<class 'str'>\n",
      "\n",
      "../../AI_Tutorial_Fundamental/basic_ML_and_Deeplearning/Basic_Knowledge/image/pytorch_workflow.png\n",
      "<class 'str'>\n",
      "\n",
      "../../AI_Tutorial_Fundamental/basic_ML_and_Deeplearning/Basic_Knowledge/image/optimizer.png\n",
      "<class 'str'>\n",
      "\n",
      "../../AI_Tutorial_Fundamental/basic_ML_and_Deeplearning/Basic_Knowledge/image/training_loop.png\n",
      "<class 'str'>\n",
      "\n",
      "../../AI_Tutorial_Fundamental/basic_ML_and_Deeplearning/Basic_Knowledge/image/neural_network.jpg\n",
      "<class 'str'>\n",
      "\n"
     ]
    }
   ],
   "source": [
    "for filename in os.listdir(image_dir) :\n",
    "    image_path = os.path.join(image_dir, filename)              #using / to connect folder path and file path more example i memo_law_tech\n",
    "    print(image_path)\n",
    "    print(type(image_path))                  #convert from pathlib path to str\n",
    "    print()"
   ]
  },
  {
   "cell_type": "markdown",
   "metadata": {},
   "source": [
    "## 1.2 using pathlb Path()"
   ]
  },
  {
   "cell_type": "markdown",
   "metadata": {},
   "source": [
    "https://docs.python.org/3/library/pathlib.html\n",
    "you can read detail of 1.2.1 - 1.2.4 from this documnet"
   ]
  },
  {
   "cell_type": "markdown",
   "metadata": {},
   "source": [
    "### 1.2.1 get current path"
   ]
  },
  {
   "cell_type": "code",
   "execution_count": 6,
   "metadata": {},
   "outputs": [],
   "source": [
    "from pathlib import Path\n",
    "import os"
   ]
  },
  {
   "cell_type": "code",
   "execution_count": 7,
   "metadata": {},
   "outputs": [
    {
     "name": "stdout",
     "output_type": "stream",
     "text": [
      "current path is : /Users/sirasittanrattanawong/Downloads/Fundamental_AI_Tutorial/some_important_python_knowledge/etc\n",
      "type of current_path is : <class 'pathlib.PosixPath'>\n"
     ]
    }
   ],
   "source": [
    "current_path = Path.cwd()\n",
    "print(\"current path is :\", current_path)\n",
    "print(\"type of current_path is :\", type(current_path))"
   ]
  },
  {
   "cell_type": "markdown",
   "metadata": {},
   "source": [
    "### 1.2.2 join Path (ex. dir, filename) using /"
   ]
  },
  {
   "cell_type": "code",
   "execution_count": 8,
   "metadata": {},
   "outputs": [
    {
     "name": "stdout",
     "output_type": "stream",
     "text": [
      "image dir is : ../../AI_Tutorial_Fundamental/basic_ML_and_Deeplearning/Basic_Knowledge/image\n",
      "type of image_dir is : <class 'pathlib.PosixPath'>\n"
     ]
    }
   ],
   "source": [
    "image_dir = \"../../AI_Tutorial_Fundamental/basic_ML_and_Deeplearning/Basic_Knowledge/image\"\n",
    "image_dir = Path(image_dir)                                         #using Path()\n",
    "print(\"image dir is :\", image_dir)\n",
    "print(\"type of image_dir is :\", type(image_dir))\n"
   ]
  },
  {
   "cell_type": "code",
   "execution_count": 9,
   "metadata": {},
   "outputs": [
    {
     "name": "stdout",
     "output_type": "stream",
     "text": [
      "image path is : ../../AI_Tutorial_Fundamental/basic_ML_and_Deeplearning/Basic_Knowledge/image/CNN_architecturfe.jpg\n",
      "type of image_path is : <class 'pathlib.PosixPath'>\n"
     ]
    }
   ],
   "source": [
    "image_path = image_dir / \"CNN_architecturfe.jpg\"                      #using / to connect folder path and file path more example i memo_law_tech\n",
    "print(\"image path is :\", image_path)\n",
    "print(\"type of image_path is :\", type(image_path))"
   ]
  },
  {
   "cell_type": "code",
   "execution_count": 10,
   "metadata": {},
   "outputs": [
    {
     "name": "stdout",
     "output_type": "stream",
     "text": [
      "../../AI_Tutorial_Fundamental/basic_ML_and_Deeplearning/Basic_Knowledge/image/testing_loop.png\n",
      "<class 'pathlib.PosixPath'>\n",
      "<class 'str'>\n",
      "\n",
      "../../AI_Tutorial_Fundamental/basic_ML_and_Deeplearning/Basic_Knowledge/image/neural_network2.jpg\n",
      "<class 'pathlib.PosixPath'>\n",
      "<class 'str'>\n",
      "\n",
      "../../AI_Tutorial_Fundamental/basic_ML_and_Deeplearning/Basic_Knowledge/image/.DS_Store\n",
      "<class 'pathlib.PosixPath'>\n",
      "<class 'str'>\n",
      "\n",
      "../../AI_Tutorial_Fundamental/basic_ML_and_Deeplearning/Basic_Knowledge/image/random_seed.png\n",
      "<class 'pathlib.PosixPath'>\n",
      "<class 'str'>\n",
      "\n",
      "../../AI_Tutorial_Fundamental/basic_ML_and_Deeplearning/Basic_Knowledge/image/metric.png\n",
      "<class 'pathlib.PosixPath'>\n",
      "<class 'str'>\n",
      "\n",
      "../../AI_Tutorial_Fundamental/basic_ML_and_Deeplearning/Basic_Knowledge/image/Anatomy_of_neural_network.jpg\n",
      "<class 'pathlib.PosixPath'>\n",
      "<class 'str'>\n",
      "\n",
      "../../AI_Tutorial_Fundamental/basic_ML_and_Deeplearning/Basic_Knowledge/image/pytorchDataset.png\n",
      "<class 'pathlib.PosixPath'>\n",
      "<class 'str'>\n",
      "\n",
      "../../AI_Tutorial_Fundamental/basic_ML_and_Deeplearning/Basic_Knowledge/image/CNN_architecture.jpg\n",
      "<class 'pathlib.PosixPath'>\n",
      "<class 'str'>\n",
      "\n",
      "../../AI_Tutorial_Fundamental/basic_ML_and_Deeplearning/Basic_Knowledge/image/Linear_regression_formula.png\n",
      "<class 'pathlib.PosixPath'>\n",
      "<class 'str'>\n",
      "\n",
      "../../AI_Tutorial_Fundamental/basic_ML_and_Deeplearning/Basic_Knowledge/image/backpropagation.png\n",
      "<class 'pathlib.PosixPath'>\n",
      "<class 'str'>\n",
      "\n",
      "../../AI_Tutorial_Fundamental/basic_ML_and_Deeplearning/Basic_Knowledge/image/linear_vs_non-linear_function.png\n",
      "<class 'pathlib.PosixPath'>\n",
      "<class 'str'>\n",
      "\n",
      "../../AI_Tutorial_Fundamental/basic_ML_and_Deeplearning/Basic_Knowledge/image/Types_of_Learning.jpg\n",
      "<class 'pathlib.PosixPath'>\n",
      "<class 'str'>\n",
      "\n",
      "../../AI_Tutorial_Fundamental/basic_ML_and_Deeplearning/Basic_Knowledge/image/buiilding_model.png\n",
      "<class 'pathlib.PosixPath'>\n",
      "<class 'str'>\n",
      "\n",
      "../../AI_Tutorial_Fundamental/basic_ML_and_Deeplearning/Basic_Knowledge/image/optimizer_backpropagation.png\n",
      "<class 'pathlib.PosixPath'>\n",
      "<class 'str'>\n",
      "\n",
      "../../AI_Tutorial_Fundamental/basic_ML_and_Deeplearning/Basic_Knowledge/image/pytorch_workflow.png\n",
      "<class 'pathlib.PosixPath'>\n",
      "<class 'str'>\n",
      "\n",
      "../../AI_Tutorial_Fundamental/basic_ML_and_Deeplearning/Basic_Knowledge/image/optimizer.png\n",
      "<class 'pathlib.PosixPath'>\n",
      "<class 'str'>\n",
      "\n",
      "../../AI_Tutorial_Fundamental/basic_ML_and_Deeplearning/Basic_Knowledge/image/training_loop.png\n",
      "<class 'pathlib.PosixPath'>\n",
      "<class 'str'>\n",
      "\n",
      "../../AI_Tutorial_Fundamental/basic_ML_and_Deeplearning/Basic_Knowledge/image/neural_network.jpg\n",
      "<class 'pathlib.PosixPath'>\n",
      "<class 'str'>\n",
      "\n"
     ]
    }
   ],
   "source": [
    "for filename in os.listdir(image_dir) :\n",
    "    image_path = image_dir / filename               #using / to connect folder path and file path more example i memo_law_tech\n",
    "    print(image_path)\n",
    "    print(type(image_path))\n",
    "    print(type(str(image_path)))                    #convert from pathlib path to str\n",
    "    print()\n",
    "    \n"
   ]
  },
  {
   "cell_type": "markdown",
   "metadata": {},
   "source": [
    "### 1.2.3 glob() *"
   ]
  },
  {
   "cell_type": "code",
   "execution_count": 11,
   "metadata": {},
   "outputs": [
    {
     "name": "stdout",
     "output_type": "stream",
     "text": [
      "../../AI_Tutorial_Fundamental/basic_ML_and_Deeplearning/Basic_Knowledge/image/neural_network2.jpg\n",
      "../../AI_Tutorial_Fundamental/basic_ML_and_Deeplearning/Basic_Knowledge/image/Anatomy_of_neural_network.jpg\n",
      "../../AI_Tutorial_Fundamental/basic_ML_and_Deeplearning/Basic_Knowledge/image/CNN_architecture.jpg\n",
      "../../AI_Tutorial_Fundamental/basic_ML_and_Deeplearning/Basic_Knowledge/image/Types_of_Learning.jpg\n",
      "../../AI_Tutorial_Fundamental/basic_ML_and_Deeplearning/Basic_Knowledge/image/neural_network.jpg\n"
     ]
    }
   ],
   "source": [
    "image_path_list = list(image_dir.glob(\"*.jpg\"))\n",
    "for i in image_path_list :\n",
    "    print(i)\n"
   ]
  },
  {
   "cell_type": "markdown",
   "metadata": {},
   "source": [
    "### 1.2.4 other attributes and method"
   ]
  },
  {
   "cell_type": "code",
   "execution_count": 12,
   "metadata": {},
   "outputs": [
    {
     "name": "stdout",
     "output_type": "stream",
     "text": [
      "../../AI_Tutorial_Fundamental/basic_ML_and_Deeplearning/Basic_Knowledge\n"
     ]
    }
   ],
   "source": [
    "print(image_dir.parent)"
   ]
  },
  {
   "cell_type": "code",
   "execution_count": 13,
   "metadata": {},
   "outputs": [
    {
     "name": "stdout",
     "output_type": "stream",
     "text": [
      "Basic_Knowledge\n"
     ]
    }
   ],
   "source": [
    "print(image_dir.parent.stem)"
   ]
  },
  {
   "cell_type": "markdown",
   "metadata": {},
   "source": [
    "# 2. sys.path (doesn't recommend when deploy)"
   ]
  },
  {
   "cell_type": "code",
   "execution_count": 14,
   "metadata": {},
   "outputs": [
    {
     "data": {
      "text/plain": [
       "['/Users/sirasittanrattanawong/opt/anaconda3/envs/python_knowledge/lib/python38.zip',\n",
       " '/Users/sirasittanrattanawong/opt/anaconda3/envs/python_knowledge/lib/python3.8',\n",
       " '/Users/sirasittanrattanawong/opt/anaconda3/envs/python_knowledge/lib/python3.8/lib-dynload',\n",
       " '',\n",
       " '/Users/sirasittanrattanawong/opt/anaconda3/envs/python_knowledge/lib/python3.8/site-packages']"
      ]
     },
     "execution_count": 14,
     "metadata": {},
     "output_type": "execute_result"
    }
   ],
   "source": [
    "# importing module \n",
    "import sys \n",
    "  \n",
    "# printing all directories \n",
    "sys.path"
   ]
  },
  {
   "cell_type": "markdown",
   "metadata": {},
   "source": [
    "# 3. create directory"
   ]
  },
  {
   "cell_type": "code",
   "execution_count": 15,
   "metadata": {},
   "outputs": [],
   "source": [
    "import os\n",
    "folder_path = Path(\"./test_create_folder\")\n",
    "os.makedirs(folder_path, exist_ok=True)"
   ]
  }
 ],
 "metadata": {
  "kernelspec": {
   "display_name": "python_knowledge",
   "language": "python",
   "name": "python3"
  },
  "language_info": {
   "codemirror_mode": {
    "name": "ipython",
    "version": 3
   },
   "file_extension": ".py",
   "mimetype": "text/x-python",
   "name": "python",
   "nbconvert_exporter": "python",
   "pygments_lexer": "ipython3",
   "version": "3.8.18"
  }
 },
 "nbformat": 4,
 "nbformat_minor": 2
}
