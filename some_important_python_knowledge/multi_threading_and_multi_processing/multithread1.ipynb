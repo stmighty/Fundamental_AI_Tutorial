{
 "cells": [
  {
   "cell_type": "markdown",
   "metadata": {},
   "source": [
    "# 0. reference "
   ]
  },
  {
   "cell_type": "markdown",
   "metadata": {},
   "source": [
    "**<span style=\"color: orange;\">1. main reference : https://www.geeksforgeeks.org/multithreading-python-set-1/</span>**\n",
    "\n",
    "**<span style=\"color: orange;\">2. thread performance reference</span>**\n",
    "\n",
    "**<span style=\"color: orange;\">2.1 serach command  : \"why using thread not faster python\"</span>**\n",
    "\n",
    "**<span style=\"color: orange;\">2.2 Because of the way CPython implementation of Python works, threading may not speed up all tasks. limit one Python thread to run at a time. : https://realpython.com/intro-to-python-threading/</span>**\n",
    "\n",
    "**<span style=\"color: orange;\">2.3 even in a multithreaded Python program, only one thread can execute Python bytecodes at a time. However, multithreading can still be beneficial in certain situations, such as when your code involves I/O-bound operations. : https://www.quora.com/Is-it-faster-to-run-your-code-in-Python-through-Multithreading</span>**\n",
    "\n",
    "**<span style=\"color: orange;\">3. search command : concurrent.futures python example : https://www.packetswitch.co.uk/what-is-concurrent-futures-and-how-can-it-boost-your-python-performance/</span>**"
   ]
  },
  {
   "cell_type": "markdown",
   "metadata": {},
   "source": [
    "# 1. import threading and threading.Thread"
   ]
  },
  {
   "cell_type": "code",
   "execution_count": 1,
   "metadata": {},
   "outputs": [],
   "source": [
    "import threading"
   ]
  },
  {
   "cell_type": "code",
   "execution_count": 2,
   "metadata": {},
   "outputs": [
    {
     "data": {
      "text/plain": [
       "<Thread(Thread-4, initial)>"
      ]
     },
     "execution_count": 2,
     "metadata": {},
     "output_type": "execute_result"
    }
   ],
   "source": [
    "threading.Thread()"
   ]
  },
  {
   "cell_type": "markdown",
   "metadata": {},
   "source": [
    "## 1.1 create a new thread"
   ]
  },
  {
   "cell_type": "markdown",
   "metadata": {},
   "source": [
    "To create a new thread, we create an object of the Thread class. It takes the ‘target’ and ‘args’ as the parameters. \n",
    "\n",
    "The target is the function to be executed by the thread whereas the args is the arguments to be passed to the target function.\n",
    "\n",
    "t1 = threading.Thread(target, args)\n",
    "\n",
    "t2 = threading.Thread(target, args)"
   ]
  },
  {
   "cell_type": "markdown",
   "metadata": {},
   "source": [
    "## 1.2 start thread"
   ]
  },
  {
   "cell_type": "markdown",
   "metadata": {},
   "source": [
    "To start a thread, we use the start() method of the Thread class.\n",
    "\n",
    "t1.start()\n",
    "\n",
    "t2.start()"
   ]
  },
  {
   "cell_type": "markdown",
   "metadata": {},
   "source": [
    "## 1.3 end thread"
   ]
  },
  {
   "cell_type": "markdown",
   "metadata": {},
   "source": [
    ". In order to stop the execution of the current program until a thread is complete, we use the join() method.\n",
    "\n",
    "t1.join()\n",
    "\n",
    "t2.join()"
   ]
  },
  {
   "cell_type": "markdown",
   "metadata": {},
   "source": [
    "# 2. simple example"
   ]
  },
  {
   "cell_type": "markdown",
   "metadata": {},
   "source": [
    "## 2.1 I/O bound example (using time.sleep(5) as represents) (using thread would benefitial)"
   ]
  },
  {
   "cell_type": "markdown",
   "metadata": {},
   "source": [
    "### 2.1.1 with thread"
   ]
  },
  {
   "cell_type": "markdown",
   "metadata": {},
   "source": [
    "**<span style=\"color: orange;\">steps</span>**\n",
    "\n",
    "**<span style=\"color: orange;\">1. define thread by passing function and parameter</span>**\n",
    "\n",
    "**<span style=\"color: orange;\">2. start thread</span>**\n",
    "\n",
    "**<span style=\"color: orange;\">3. end thread</span>**"
   ]
  },
  {
   "cell_type": "markdown",
   "metadata": {},
   "source": [
    "we need \",\" in (10,) because we use it as a tuple"
   ]
  },
  {
   "cell_type": "code",
   "execution_count": 3,
   "metadata": {},
   "outputs": [
    {
     "name": "stdout",
     "output_type": "stream",
     "text": [
      "double : 20cube : 1000\n",
      "double : 30\n",
      "\n",
      "square : 100\n",
      "Done!\n"
     ]
    }
   ],
   "source": [
    "import threading\n",
    "import time\n",
    " \n",
    "def print_cube(num):\n",
    "    time.sleep(5)\n",
    "    print(f\"cube : {num * num * num}\")\n",
    " \n",
    " \n",
    "def print_square(num):\n",
    "    time.sleep(5)\n",
    "    print(f\"square : {num * num}\")\n",
    "\n",
    "def print_double(num) :\n",
    "    time.sleep(5)\n",
    "    print(f\"double : {num * 2}\")\n",
    "    \n",
    "def print_triple(num) :\n",
    "    time.sleep(5)\n",
    "    print(f\"double : {num * 3}\")\n",
    " \n",
    " \n",
    "if __name__ ==\"__main__\":\n",
    "    t1 = threading.Thread(target=print_square, args=(10,))                  # 1.1 create a new thread\n",
    "    t2 = threading.Thread(target=print_cube, args=(10,))   \n",
    "    t3 = threading.Thread(target=print_double, args=(10,))        \n",
    "    t4 = threading.Thread(target=print_triple, args=(10,))            \n",
    " \n",
    "    t1.start()                                                              # 1.2 start thread\n",
    "    t2.start()\n",
    "    t3.start()\n",
    "    t4.start()\n",
    " \n",
    "    t1.join()                                                               # 1.3 end thread\n",
    "    t2.join()\n",
    "    t3.join()\n",
    "    t4.join()\n",
    " \n",
    "    print(\"Done!\")"
   ]
  },
  {
   "cell_type": "markdown",
   "metadata": {},
   "source": [
    "### 2.1.2 without thread"
   ]
  },
  {
   "cell_type": "code",
   "execution_count": 4,
   "metadata": {},
   "outputs": [
    {
     "name": "stdout",
     "output_type": "stream",
     "text": [
      "cube : 1000\n",
      "square : 100\n",
      "double : 20\n",
      "double : 30\n"
     ]
    }
   ],
   "source": [
    " \n",
    "def print_cube(num):\n",
    "    time.sleep(5)\n",
    "    print(f\"cube : {num * num * num}\")\n",
    " \n",
    " \n",
    "def print_square(num):\n",
    "    time.sleep(5)\n",
    "    print(f\"square : {num * num}\")\n",
    "    \n",
    "def print_double(num) :\n",
    "    time.sleep(5)\n",
    "    print(f\"double : {num * 2}\")\n",
    "    \n",
    "def print_triple(num) :\n",
    "    time.sleep(5)\n",
    "    print(f\"double : {num * 3}\")\n",
    "    \n",
    "    \n",
    "if __name__ ==\"__main__\":\n",
    "    print_cube(10)\n",
    "    print_square(10)\n",
    "    print_double(10)\n",
    "    print_triple(10)"
   ]
  },
  {
   "cell_type": "markdown",
   "metadata": {},
   "source": [
    "## 2.2 cpu bound (using thread wouldn't benefitial)"
   ]
  },
  {
   "cell_type": "markdown",
   "metadata": {},
   "source": [
    "### 2.2.1 with thread"
   ]
  },
  {
   "cell_type": "code",
   "execution_count": 5,
   "metadata": {},
   "outputs": [
    {
     "name": "stdout",
     "output_type": "stream",
     "text": [
      "double : 30\n",
      "cube : 1000\n",
      "square : 100\n",
      "double : 20\n",
      "Done!\n"
     ]
    }
   ],
   "source": [
    "import threading\n",
    "import time\n",
    " \n",
    "def print_cube(num):\n",
    "    for i in range(500000000) :\n",
    "        pass\n",
    "    print(f\"cube : {num * num * num}\")\n",
    " \n",
    " \n",
    "def print_square(num):\n",
    "    for i in range(500000000) :\n",
    "        pass\n",
    "    print(f\"square : {num * num}\")\n",
    "\n",
    "def print_double(num) :\n",
    "    for i in range(500000000) :\n",
    "        pass\n",
    "    print(f\"double : {num * 2}\")\n",
    "    \n",
    "def print_triple(num) :\n",
    "    for i in range(500000000) :\n",
    "        pass\n",
    "    print(f\"double : {num * 3}\")\n",
    " \n",
    " \n",
    "if __name__ ==\"__main__\":\n",
    "    t1 = threading.Thread(target=print_square, args=(10,))                  # 1.1 create a new thread\n",
    "    t2 = threading.Thread(target=print_cube, args=(10,))   \n",
    "    t3 = threading.Thread(target=print_double, args=(10,))        \n",
    "    t4 = threading.Thread(target=print_triple, args=(10,))            \n",
    " \n",
    "    t1.start()                                                              # 1.2 start thread\n",
    "    t2.start()\n",
    "    t3.start()\n",
    "    t4.start()\n",
    " \n",
    "    t1.join()                                                               # 1.3 end thread\n",
    "    t2.join()\n",
    "    t3.join()\n",
    "    t4.join()\n",
    " \n",
    "    print(\"Done!\")\n"
   ]
  },
  {
   "cell_type": "markdown",
   "metadata": {},
   "source": [
    "### 2.2.2 without thread"
   ]
  },
  {
   "cell_type": "code",
   "execution_count": 6,
   "metadata": {},
   "outputs": [
    {
     "name": "stdout",
     "output_type": "stream",
     "text": [
      "cube : 1000\n",
      "square : 100\n",
      "double : 20\n",
      "double : 30\n"
     ]
    }
   ],
   "source": [
    "def print_cube(num):\n",
    "    for i in range(500000000) :\n",
    "        pass\n",
    "    print(f\"cube : {num * num * num}\")\n",
    " \n",
    " \n",
    "def print_square(num):\n",
    "    for i in range(500000000) :\n",
    "        pass\n",
    "    print(f\"square : {num * num}\")\n",
    "    \n",
    "def print_double(num) :\n",
    "    for i in range(500000000) :\n",
    "        pass\n",
    "    print(f\"double : {num * 2}\")\n",
    "    \n",
    "def print_triple(num) :\n",
    "    for i in range(500000000) :\n",
    "        pass\n",
    "    print(f\"double : {num * 3}\")\n",
    "    \n",
    "    \n",
    "if __name__ ==\"__main__\":\n",
    "    print_cube(10)\n",
    "    print_square(10)\n",
    "    print_double(10)\n",
    "    print_triple(10)"
   ]
  },
  {
   "cell_type": "markdown",
   "metadata": {},
   "source": [
    "# 3. get the ID of the current process"
   ]
  },
  {
   "cell_type": "markdown",
   "metadata": {},
   "source": [
    "3.1 : os.getpid() function to get the ID of the current process.\n",
    "\n",
    "3.2 : threading.current_thread() function to get the current thread object.\n"
   ]
  },
  {
   "cell_type": "markdown",
   "metadata": {},
   "source": [
    "3.3 threading.Thread() parameters : https://docs.python.org/3/library/threading.html\n",
    "\n",
    "**<span style=\"color: orange;\">threading.Thread(group=None, target=None, name=None, args=(), kwargs={}, *, daemon=None)</span>**"
   ]
  },
  {
   "cell_type": "code",
   "execution_count": 7,
   "metadata": {},
   "outputs": [
    {
     "name": "stdout",
     "output_type": "stream",
     "text": [
      "ID of process running main program: 42008\n",
      "Main thread name: MainThread\n",
      "Task 1 assigned to thread: t1\n",
      "ID of process running task 1: 42008\n",
      "Task 2 assigned to thread: t2\n",
      "ID of process running task 2: 42008\n"
     ]
    }
   ],
   "source": [
    "import threading\n",
    "import os\n",
    " \n",
    "def task1():\n",
    "    print(f\"Task 1 assigned to thread: {threading.current_thread().name}\")                  # 3.2 function to get the ID of the current process.\n",
    "    print(f\"ID of process running task 1: {os.getpid()}\")                                   # 3.1 function to get the ID of the current process.\n",
    " \n",
    "def task2():\n",
    "    print(f\"Task 2 assigned to thread: {threading.current_thread().name}\")\n",
    "    print(f\"ID of process running task 2: {os.getpid()}\")\n",
    " \n",
    "if __name__ == \"__main__\":\n",
    " \n",
    "    print(f\"ID of process running main program: {os.getpid()}\")\n",
    " \n",
    "    print(f\"Main thread name: {threading.current_thread().name}\")\n",
    " \n",
    "    t1 = threading.Thread(target=task1, name='t1')\n",
    "    t2 = threading.Thread(target=task2, name='t2')\n",
    " \n",
    "    t1.start()\n",
    "    t2.start()\n",
    " \n",
    "    t1.join()\n",
    "    t2.join()"
   ]
  },
  {
   "cell_type": "markdown",
   "metadata": {},
   "source": [
    "# 4. ThreadPool"
   ]
  },
  {
   "cell_type": "markdown",
   "metadata": {},
   "source": [
    "**<span style=\"color: orange;\">difference from 2.1.1 with thread</span>**\n",
    "\n",
    "**<span style=\"color: orange;\">ThreadPoolExecutor -> you don't have to manually create and manage threads like t1, t2, t3, etc.</span>**\n",
    "\n",
    "**<span style=\"color: orange;\">difference from 2.1.1 with thread</span>**"
   ]
  },
  {
   "cell_type": "markdown",
   "metadata": {},
   "source": [
    "**<span style=\"color: orange;\">steps</span>**\n",
    "\n",
    "**<span style=\"color: orange;\">1. define function and iterable parameters (or pass it directly in the following steps)</span>**\n",
    "\n",
    "**<span style=\"color: orange;\">2. create ThreadPoolExecutor ex. concurrent.futures.ThreadPoolExecutor(max_workers=10) as executor :</span>**\n",
    "\n",
    "**<span style=\"color: orange;\">3. for loop and run each thread ex. executor.submit(worker_w_params, i)</span>**"
   ]
  },
  {
   "cell_type": "markdown",
   "metadata": {},
   "source": [
    "A thread pool is a collection of threads that are created in advance and can be reused to execute multiple tasks. The concurrent.futures module in Python provides a ThreadPoolExecutor class that makes it easy to create and manage a thread pool."
   ]
  },
  {
   "cell_type": "markdown",
   "metadata": {},
   "source": [
    "In this example, we define a function worker that will run in a thread. We create a ThreadPoolExecutor with a maximum of 2 worker threads. We then submit two tasks to the pool using the submit method. The pool manages the execution of the tasks in its worker threads. We use the shutdown method to wait for all tasks to complete before the main thread continues."
   ]
  },
  {
   "cell_type": "code",
   "execution_count": 8,
   "metadata": {},
   "outputs": [
    {
     "name": "stdout",
     "output_type": "stream",
     "text": [
      "Worker thread running\n"
     ]
    }
   ],
   "source": [
    "time.sleep(5)\n",
    "print(\"Worker thread running\")"
   ]
  },
  {
   "cell_type": "markdown",
   "metadata": {},
   "source": [
    "example 1"
   ]
  },
  {
   "cell_type": "code",
   "execution_count": 9,
   "metadata": {},
   "outputs": [
    {
     "name": "stdout",
     "output_type": "stream",
     "text": [
      "Worker thread running\n",
      "Worker thread running\n",
      "Main thread continuing to run\n"
     ]
    }
   ],
   "source": [
    "import concurrent.futures\n",
    " \n",
    "def worker():\n",
    "    time.sleep(5)\n",
    "    print(\"Worker thread running\")\n",
    " \n",
    "pool = concurrent.futures.ThreadPoolExecutor(max_workers=2)\n",
    " \n",
    "pool.submit(worker)\n",
    "pool.submit(worker)\n",
    " \n",
    "pool.shutdown(wait=True)\n",
    " \n",
    "print(\"Main thread continuing to run\")"
   ]
  },
  {
   "cell_type": "markdown",
   "metadata": {},
   "source": [
    "example2"
   ]
  },
  {
   "cell_type": "code",
   "execution_count": 10,
   "metadata": {},
   "outputs": [
    {
     "name": "stdout",
     "output_type": "stream",
     "text": [
      "Worker thread1 running\n",
      "Worker thread3 running\n",
      "Worker thread6 running\n",
      "Worker thread4 running\n",
      "Worker thread2 running\n",
      "Worker thread5 running\n",
      "Worker thread7 running\n",
      "Worker thread8 running\n",
      "Worker thread9 running\n",
      "Worker thread10 running\n",
      "Worker thread11 runningWorker thread12 running\n",
      "Worker thread13 running\n",
      "Worker thread14 running\n",
      "Worker thread20 running\n",
      "Worker thread17 running\n",
      "Worker thread16 running\n",
      "Worker thread18 running\n",
      "Worker thread15 running\n",
      "\n",
      "Worker thread19 running\n",
      "Worker thread21 runningWorker thread22 running\n",
      "Worker thread23 running\n",
      "Worker thread24 running\n",
      "Worker thread25 running\n",
      "Worker thread28 running\n",
      "Worker thread29 running\n",
      "Worker thread27 running\n",
      "\n",
      "Worker thread26 running\n",
      "done\n"
     ]
    }
   ],
   "source": [
    "import time\n",
    "\n",
    "def worker_w_params(x):\n",
    "    time.sleep(5)\n",
    "    print(f\"Worker thread{x} running\")\n",
    "    \n",
    "    \n",
    "with concurrent.futures.ThreadPoolExecutor(max_workers=10) as executor :           # using only 15sec even max_workers is more than number of thread in this computer due to thread scheduler.  \n",
    "    for i in range(1,30) :                                                          # OS efficiently manage and schedule the threads.\n",
    "        executor.submit(worker_w_params, i)\n",
    "print(\"done\")\n",
    "\n",
    "\n",
    "\n",
    "\n"
   ]
  },
  {
   "cell_type": "markdown",
   "metadata": {},
   "source": [
    "## 4.2 as_completed"
   ]
  },
  {
   "cell_type": "markdown",
   "metadata": {},
   "source": [
    "### 4.2.1 without as_completed"
   ]
  },
  {
   "cell_type": "code",
   "execution_count": 11,
   "metadata": {},
   "outputs": [
    {
     "name": "stdout",
     "output_type": "stream",
     "text": [
      "Started mailing letter A (duration: 1s)Started mailing letter B (duration: 5s)\n",
      "Started mailing letter C (duration: 5s)\n",
      "\n",
      "Started mailing letter D (duration: 5s)\n",
      "Started mailing letter E (duration: 4s)\n",
      "Actually finished mailing letter A but you would not receive until every letter is sent\n",
      "Actually finished mailing letter E but you would not receive until every letter is sent\n",
      "Actually finished mailing letter B but you would not receive until every letter is sentActually finished mailing letter C but you would not receive until every letter is sent\n",
      "\n",
      "Actually finished mailing letter D but you would not receive until every letter is sent\n",
      "\n",
      "\n",
      "without as_completed here are the order you would get\n",
      "\n",
      "Mailing Results:\n",
      "Letter A mailed\n",
      "Letter B mailed\n",
      "Letter C mailed\n",
      "Letter D mailed\n",
      "Letter E mailed\n"
     ]
    }
   ],
   "source": [
    "import concurrent.futures\n",
    "import time\n",
    "import random\n",
    "\n",
    "def mail_letter(letter):\n",
    "    duration = random.randint(1, 5)\n",
    "    print(f\"Started mailing letter {letter} (duration: {duration}s)\")\n",
    "    time.sleep(duration)\n",
    "    print(f\"Actually finished mailing letter {letter} but you would not receive until every letter is sent\")\n",
    "    return f\"Letter {letter} mailed\"\n",
    "\n",
    "if __name__ == '__main__':\n",
    "    letters = ['A', 'B', 'C', 'D', 'E']\n",
    "\n",
    "    with concurrent.futures.ThreadPoolExecutor() as executor:\n",
    "        results = list(executor.map(mail_letter, letters))\n",
    "\n",
    "    print()\n",
    "    print()\n",
    "    print(\"without as_completed here are the order you would get\")\n",
    "    print()\n",
    "    print(\"Mailing Results:\")\n",
    "    for result in results:\n",
    "        print(result)\n"
   ]
  },
  {
   "cell_type": "code",
   "execution_count": 12,
   "metadata": {},
   "outputs": [
    {
     "name": "stdout",
     "output_type": "stream",
     "text": [
      "Result : Letter A mailed\n",
      "Result : Letter B mailed\n",
      "Result : Letter C mailed\n",
      "Result : Letter D mailed\n",
      "Result : Letter E mailed\n"
     ]
    }
   ],
   "source": [
    "import concurrent.futures\n",
    "import time\n",
    "import random\n",
    "\n",
    "def mail_letter(letter):\n",
    "    duration = random.randint(1, 5)\n",
    "    #print(f\"Started mailing letter {letter} (duration: {duration}s)\")\n",
    "    time.sleep(duration)\n",
    "    #print(f\"Finished mailing letter {letter}\")\n",
    "    return f\"Letter {letter} mailed\"\n",
    "\n",
    "if __name__ == '__main__':\n",
    "    letters = ['A', 'B', 'C', 'D', 'E']\n",
    "\n",
    "    with concurrent.futures.ThreadPoolExecutor() as executor:\n",
    "        futures = {executor.submit(mail_letter, letter): letter for letter in letters}\n",
    "        \n",
    "        # you would get all return from the above function after everything are finished\n",
    "        for future in futures :\n",
    "            result = future.result()\n",
    "            print(f\"Result : {result}\")\n",
    "        "
   ]
  },
  {
   "cell_type": "markdown",
   "metadata": {},
   "source": [
    "### 4.2.2 with as_completed"
   ]
  },
  {
   "cell_type": "markdown",
   "metadata": {},
   "source": [
    "#### 1.1 with dict comprehension (just coding style)"
   ]
  },
  {
   "cell_type": "markdown",
   "metadata": {},
   "source": [
    "**<span style=\"color: orange;\">key -> executor.submit(mail_letter, letter)</span>**\n",
    "\n",
    "**<span style=\"color: orange;\">value -> letter</span>**\n",
    "\n",
    "**<span style=\"color: orange;\">loop from -> for letter in letters</span>**"
   ]
  },
  {
   "cell_type": "markdown",
   "metadata": {},
   "source": [
    "\n",
    "**<span style=\"color: orange;\">steps </span>**\n",
    "\n",
    "**<span style=\"color: orange;\">1. define function and iterable params</span>**\n",
    "\n",
    "**<span style=\"color: orange;\">2. create threadpool executor ex. with concurrent.futures.ThreadPoolExecutor(max_workers=10) as executor :  (same as general thradpool in main topic4)</span>**\n",
    "\n",
    "**<span style=\"color: orange;\">3. create list or dict (dict in this case with key value as above) and submit each thread ex. futures = {executor.submit(mail_letter, letter): letter for letter in letters}</span>**\n",
    "\n",
    "**<span style=\"color: orange;\">4. for loop to display the output ex. for future in concurrent.futures.as_completed(futures):</span>**"
   ]
  },
  {
   "cell_type": "markdown",
   "metadata": {},
   "source": [
    "https://www.geeksforgeeks.org/python-dictionary-comprehension/"
   ]
  },
  {
   "cell_type": "code",
   "execution_count": 13,
   "metadata": {},
   "outputs": [
    {
     "name": "stdout",
     "output_type": "stream",
     "text": [
      "Started mailing letter A (duration: 1s)\n",
      "Started mailing letter B (duration: 2s)\n",
      "Started mailing letter C (duration: 5s)\n",
      "Started mailing letter D (duration: 2s)\n",
      "Started mailing letter E (duration: 4s)\n",
      "Finished mailing letter A\n",
      "Result: Letter A mailed\n",
      "Finished mailing letter DFinished mailing letter B\n",
      "Result: Letter B mailed\n",
      "\n",
      "Result: Letter D mailed\n",
      "Finished mailing letter E\n",
      "Result: Letter E mailed\n",
      "Finished mailing letter C\n",
      "Result: Letter C mailed\n"
     ]
    }
   ],
   "source": [
    "import concurrent.futures\n",
    "import time\n",
    "import random\n",
    "\n",
    "def mail_letter(letter):\n",
    "    duration = random.randint(1, 5)\n",
    "    print(f\"Started mailing letter {letter} (duration: {duration}s)\")\n",
    "    time.sleep(duration)\n",
    "    print(f\"Finished mailing letter {letter}\")\n",
    "    return f\"Letter {letter} mailed\"\n",
    "\n",
    "if __name__ == '__main__':\n",
    "    letters = ['A', 'B', 'C', 'D', 'E']\n",
    "\n",
    "    with concurrent.futures.ThreadPoolExecutor(max_workers=10) as executor: \n",
    "        futures = {executor.submit(mail_letter, letter): letter for letter in letters}\n",
    "\n",
    "        for future in concurrent.futures.as_completed(futures):\n",
    "            letter = futures[future]                # just for debugging or logging purpose\n",
    "            result = future.result()\n",
    "            print(f\"Result: {result}\")"
   ]
  },
  {
   "cell_type": "markdown",
   "metadata": {},
   "source": [
    "#### 1.2 list comprehension"
   ]
  },
  {
   "cell_type": "code",
   "execution_count": 14,
   "metadata": {},
   "outputs": [
    {
     "name": "stdout",
     "output_type": "stream",
     "text": [
      "Result: Letter E mailed\n",
      "Result: Letter A mailed\n",
      "Result: Letter B mailed\n",
      "Result: Letter C mailed\n",
      "Result: Letter D mailed\n"
     ]
    }
   ],
   "source": [
    "import concurrent.futures\n",
    "import time\n",
    "import random\n",
    "\n",
    "def mail_letter(letter):\n",
    "    duration = random.randint(1, 5)\n",
    "    # print(f\"Started mailing letter {letter} (duration: {duration}s)\")\n",
    "    time.sleep(duration)\n",
    "    # print(f\"Finished mailing letter {letter}\")\n",
    "    return f\"Letter {letter} mailed\"\n",
    "\n",
    "if __name__ == '__main__':\n",
    "    letters = ['A', 'B', 'C', 'D', 'E']\n",
    "\n",
    "    with concurrent.futures.ThreadPoolExecutor() as executor:\n",
    "        # Submit tasks to the executor for each letter\n",
    "        futures = [executor.submit(mail_letter, letter) for letter in letters]\n",
    "\n",
    "        # Process futures as they complete\n",
    "        for future in concurrent.futures.as_completed(futures):\n",
    "            result = future.result()\n",
    "            print(f\"Result: {result}\")\n",
    "\n",
    "\n",
    "\n",
    "        "
   ]
  },
  {
   "cell_type": "markdown",
   "metadata": {},
   "source": [
    "#### 2. simplify dict comprehension (just coding style)"
   ]
  },
  {
   "cell_type": "code",
   "execution_count": 15,
   "metadata": {},
   "outputs": [
    {
     "name": "stdout",
     "output_type": "stream",
     "text": [
      "Result: Letter C mailed\n",
      "Result: Letter D mailed\n",
      "Result: Letter E mailed\n",
      "Result: Letter B mailed\n",
      "Result: Letter A mailed\n"
     ]
    }
   ],
   "source": [
    "import concurrent.futures\n",
    "import time\n",
    "import random\n",
    "\n",
    "def mail_letter(letter):\n",
    "    duration = random.randint(1, 5)\n",
    "    # print(f\"Started mailing letter {letter} (duration: {duration}s)\")\n",
    "    time.sleep(duration)\n",
    "    # print(f\"Finished mailing letter {letter}\")\n",
    "    return f\"Letter {letter} mailed\"\n",
    "\n",
    "if __name__ == '__main__':\n",
    "    letters = ['A', 'B', 'C', 'D', 'E']\n",
    "\n",
    "    with concurrent.futures.ThreadPoolExecutor() as executor:\n",
    "        futures = {}\n",
    "        for letter in letters :\n",
    "            letter = executor.submit(mail_letter, letter)\n",
    "            futures[letter] = letter\n",
    "\n",
    "\n",
    "        for future in concurrent.futures.as_completed(futures):\n",
    "            letter = futures[future]\n",
    "            result = future.result()\n",
    "            print(f\"Result: {result}\")\n",
    "        \n",
    "\n"
   ]
  },
  {
   "cell_type": "markdown",
   "metadata": {},
   "source": [
    "# 5. check number of thread in mac"
   ]
  },
  {
   "cell_type": "code",
   "execution_count": 16,
   "metadata": {},
   "outputs": [],
   "source": [
    "import threading\n",
    "import psutil\n",
    "\n",
    "threads_count_percore = psutil.cpu_count() / psutil.cpu_count(logical=False)"
   ]
  },
  {
   "cell_type": "code",
   "execution_count": 17,
   "metadata": {},
   "outputs": [
    {
     "data": {
      "text/plain": [
       "(8, 8)"
      ]
     },
     "execution_count": 17,
     "metadata": {},
     "output_type": "execute_result"
    }
   ],
   "source": [
    "psutil.cpu_count(), psutil.cpu_count(logical=False)"
   ]
  },
  {
   "cell_type": "code",
   "execution_count": 18,
   "metadata": {},
   "outputs": [
    {
     "data": {
      "text/plain": [
       "1.0"
      ]
     },
     "execution_count": 18,
     "metadata": {},
     "output_type": "execute_result"
    }
   ],
   "source": [
    "threads_count_percore"
   ]
  },
  {
   "cell_type": "markdown",
   "metadata": {},
   "source": [
    "## 5.2 from chatgpt"
   ]
  },
  {
   "cell_type": "code",
   "execution_count": 19,
   "metadata": {},
   "outputs": [
    {
     "name": "stdout",
     "output_type": "stream",
     "text": [
      "Number of physical cores: 8\n",
      "Number of logical cores (threads): 8\n"
     ]
    }
   ],
   "source": [
    "import psutil\n",
    "\n",
    "def get_cpu_info():\n",
    "    physical_cores = psutil.cpu_count(logical=False)\n",
    "    logical_cores = psutil.cpu_count(logical=True)\n",
    "\n",
    "    print(f\"Number of physical cores: {physical_cores}\")\n",
    "    print(f\"Number of logical cores (threads): {logical_cores}\")\n",
    "\n",
    "if __name__ == \"__main__\":\n",
    "    get_cpu_info()\n"
   ]
  },
  {
   "cell_type": "markdown",
   "metadata": {},
   "source": [
    "# 6. ProcessPoolExecutor and ThreadPoolExecutor"
   ]
  },
  {
   "cell_type": "markdown",
   "metadata": {},
   "source": [
    "Multithreading refers to the ability of a processor to execute multiple threads concurrently, where each thread runs a process. Multiprocessing refers to the ability of a system to run multiple processors in parallel, where each processor can run one or more threads."
   ]
  },
  {
   "cell_type": "code",
   "execution_count": null,
   "metadata": {},
   "outputs": [],
   "source": []
  },
  {
   "cell_type": "code",
   "execution_count": null,
   "metadata": {},
   "outputs": [],
   "source": []
  },
  {
   "cell_type": "code",
   "execution_count": null,
   "metadata": {},
   "outputs": [],
   "source": []
  },
  {
   "cell_type": "code",
   "execution_count": null,
   "metadata": {},
   "outputs": [],
   "source": [
    "\n"
   ]
  }
 ],
 "metadata": {
  "kernelspec": {
   "display_name": "python_knowledge",
   "language": "python",
   "name": "python3"
  },
  "language_info": {
   "codemirror_mode": {
    "name": "ipython",
    "version": 3
   },
   "file_extension": ".py",
   "mimetype": "text/x-python",
   "name": "python",
   "nbconvert_exporter": "python",
   "pygments_lexer": "ipython3",
   "version": "3.8.18"
  }
 },
 "nbformat": 4,
 "nbformat_minor": 2
}
