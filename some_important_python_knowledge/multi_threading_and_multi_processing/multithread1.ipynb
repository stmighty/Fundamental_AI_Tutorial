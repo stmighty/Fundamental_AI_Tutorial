{
 "cells": [
  {
   "cell_type": "markdown",
   "metadata": {},
   "source": [
    "# 1. import threading and threading.Thread"
   ]
  },
  {
   "cell_type": "code",
   "execution_count": 7,
   "metadata": {},
   "outputs": [],
   "source": [
    "import threading"
   ]
  },
  {
   "cell_type": "code",
   "execution_count": 8,
   "metadata": {},
   "outputs": [
    {
     "data": {
      "text/plain": [
       "<Thread(Thread-11, initial)>"
      ]
     },
     "execution_count": 8,
     "metadata": {},
     "output_type": "execute_result"
    }
   ],
   "source": [
    "threading.Thread()"
   ]
  },
  {
   "cell_type": "markdown",
   "metadata": {},
   "source": [
    "## 1.1 create a new thread"
   ]
  },
  {
   "cell_type": "markdown",
   "metadata": {},
   "source": [
    "To create a new thread, we create an object of the Thread class. It takes the ‘target’ and ‘args’ as the parameters. The target is the function to be executed by the thread whereas the args is the arguments to be passed to the target function.\n",
    "\n",
    "t1 = threading.Thread(target, args)\n",
    "\n",
    "t2 = threading.Thread(target, args)"
   ]
  },
  {
   "cell_type": "markdown",
   "metadata": {},
   "source": [
    "## 1.2 start thread"
   ]
  },
  {
   "cell_type": "markdown",
   "metadata": {},
   "source": [
    "To start a thread, we use the start() method of the Thread class.\n",
    "\n",
    "t1.start()\n",
    "\n",
    "t2.start()"
   ]
  },
  {
   "cell_type": "markdown",
   "metadata": {},
   "source": [
    "## 1.3 end thread"
   ]
  },
  {
   "cell_type": "markdown",
   "metadata": {},
   "source": [
    ". In order to stop the execution of the current program until a thread is complete, we use the join() method.\n",
    "\n",
    "t1.join()\n",
    "\n",
    "t2.join()"
   ]
  },
  {
   "cell_type": "markdown",
   "metadata": {},
   "source": [
    "# 2. simple example"
   ]
  },
  {
   "cell_type": "markdown",
   "metadata": {},
   "source": [
    "Two threads, t1 and t2, are created to perform these calculations. They are started, and their results are printed in parallel before the program prints “Done!” when both threads have finished."
   ]
  },
  {
   "cell_type": "code",
   "execution_count": 11,
   "metadata": {},
   "outputs": [
    {
     "name": "stdout",
     "output_type": "stream",
     "text": [
      "square : 100\n",
      "cube : 1000\n",
      "Done!\n"
     ]
    }
   ],
   "source": [
    "import threading\n",
    " \n",
    " \n",
    "def print_cube(num):\n",
    "    print(f\"cube : {num * num * num}\")\n",
    " \n",
    " \n",
    "def print_square(num):\n",
    "    print(f\"square : {num * num}\")\n",
    " \n",
    " \n",
    "if __name__ ==\"__main__\":\n",
    "    t1 = threading.Thread(target=print_square, args=(10,))                  # 1.1 create a new thread\n",
    "    t2 = threading.Thread(target=print_cube, args=(10,))                    \n",
    " \n",
    "    t1.start()                                                              # 1.2 start thread\n",
    "    t2.start()\n",
    " \n",
    "    t1.join()                                                               # 1.3 end thread\n",
    "    t2.join()\n",
    " \n",
    "    print(\"Done!\")"
   ]
  },
  {
   "cell_type": "markdown",
   "metadata": {},
   "source": [
    "# 3. get the ID of the current process"
   ]
  },
  {
   "cell_type": "markdown",
   "metadata": {},
   "source": [
    "3.1 : os.getpid() function to get the ID of the current process.\n",
    "\n",
    "3.2 : threading.current_thread() function to get the current thread object.\n"
   ]
  },
  {
   "cell_type": "markdown",
   "metadata": {},
   "source": [
    "3.3 threading.Thread() parameters : https://docs.python.org/3/library/threading.html\n",
    "\n",
    "threading.Thread(group=None, target=None, name=None, args=(), kwargs={}, *, daemon=None)"
   ]
  },
  {
   "cell_type": "code",
   "execution_count": 18,
   "metadata": {},
   "outputs": [
    {
     "name": "stdout",
     "output_type": "stream",
     "text": [
      "ID of process running main program: 8963\n",
      "Main thread name: MainThread\n",
      "Task 1 assigned to thread: t1\n",
      "ID of process running task 1: 8963\n",
      "Task 2 assigned to thread: t2\n",
      "ID of process running task 2: 8963\n"
     ]
    }
   ],
   "source": [
    "import threading\n",
    "import os\n",
    " \n",
    "def task1():\n",
    "    print(f\"Task 1 assigned to thread: {threading.current_thread().name}\")                  # 3.2 function to get the ID of the current process.\n",
    "    print(f\"ID of process running task 1: {os.getpid()}\")                                   # 3.1 function to get the ID of the current process.\n",
    " \n",
    "def task2():\n",
    "    print(f\"Task 2 assigned to thread: {threading.current_thread().name}\")\n",
    "    print(f\"ID of process running task 2: {os.getpid()}\")\n",
    " \n",
    "if __name__ == \"__main__\":\n",
    " \n",
    "    print(f\"ID of process running main program: {os.getpid()}\")\n",
    " \n",
    "    print(f\"Main thread name: {threading.current_thread().name}\")\n",
    " \n",
    "    t1 = threading.Thread(target=task1, name='t1')\n",
    "    t2 = threading.Thread(target=task2, name='t2')\n",
    " \n",
    "    t1.start()\n",
    "    t2.start()\n",
    " \n",
    "    t1.join()\n",
    "    t2.join()"
   ]
  }
 ],
 "metadata": {
  "kernelspec": {
   "display_name": "python_knowledge",
   "language": "python",
   "name": "python3"
  },
  "language_info": {
   "codemirror_mode": {
    "name": "ipython",
    "version": 3
   },
   "file_extension": ".py",
   "mimetype": "text/x-python",
   "name": "python",
   "nbconvert_exporter": "python",
   "pygments_lexer": "ipython3",
   "version": "3.8.18"
  }
 },
 "nbformat": 4,
 "nbformat_minor": 2
}
