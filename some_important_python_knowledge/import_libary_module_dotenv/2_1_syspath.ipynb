{
 "cells": [
  {
   "cell_type": "code",
   "execution_count": 2,
   "metadata": {},
   "outputs": [
    {
     "data": {
      "text/plain": [
       "['/Users/sirasittanrattanawong/Downloads/Fundamental_AI_Tutorial/some_important_python_knowledge/path_and_import_and_load_dotenv',\n",
       " '/Users/sirasittanrattanawong/opt/anaconda3/envs/python_knowledge/lib/python38.zip',\n",
       " '/Users/sirasittanrattanawong/opt/anaconda3/envs/python_knowledge/lib/python3.8',\n",
       " '/Users/sirasittanrattanawong/opt/anaconda3/envs/python_knowledge/lib/python3.8/lib-dynload',\n",
       " '',\n",
       " '/Users/sirasittanrattanawong/opt/anaconda3/envs/python_knowledge/lib/python3.8/site-packages']"
      ]
     },
     "execution_count": 2,
     "metadata": {},
     "output_type": "execute_result"
    }
   ],
   "source": [
    "import sys\n",
    "sys.path\n"
   ]
  }
 ],
 "metadata": {
  "kernelspec": {
   "display_name": "python_knowledge",
   "language": "python",
   "name": "python3"
  },
  "language_info": {
   "codemirror_mode": {
    "name": "ipython",
    "version": 3
   },
   "file_extension": ".py",
   "mimetype": "text/x-python",
   "name": "python",
   "nbconvert_exporter": "python",
   "pygments_lexer": "ipython3",
   "version": "3.8.18"
  }
 },
 "nbformat": 4,
 "nbformat_minor": 2
}
