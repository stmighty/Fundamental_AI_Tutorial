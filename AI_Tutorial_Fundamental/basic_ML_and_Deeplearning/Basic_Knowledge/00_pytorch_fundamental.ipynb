{
 "cells": [
  {
   "cell_type": "code",
   "execution_count": 53,
   "metadata": {},
   "outputs": [],
   "source": [
    "import pandas as pd\n",
    "import torch\n",
    "import numpy as np\n",
    "import matplotlib.pyplot as plt"
   ]
  },
  {
   "cell_type": "code",
   "execution_count": 54,
   "metadata": {},
   "outputs": [
    {
     "name": "stdout",
     "output_type": "stream",
     "text": [
      "2.0.1\n"
     ]
    }
   ],
   "source": [
    "print(torch.__version__)"
   ]
  },
  {
   "cell_type": "markdown",
   "metadata": {},
   "source": [
    "# 1. creating tensor"
   ]
  },
  {
   "cell_type": "code",
   "execution_count": 55,
   "metadata": {},
   "outputs": [
    {
     "name": "stdout",
     "output_type": "stream",
     "text": [
      "tensor(7)\n",
      "tensor([7, 8])\n",
      "tensor([[1, 2],\n",
      "        [3, 4]])\n",
      "tensor([1, 2])\n"
     ]
    }
   ],
   "source": [
    "# scalar\n",
    "scalar = torch.tensor(7)\n",
    "vector = torch.tensor([7,8])\n",
    "matrix1 = torch.tensor([[1,2],[3,4]])\n",
    "\n",
    "print(scalar)\n",
    "print(vector)\n",
    "print(matrix1)\n",
    "print(matrix1[0])"
   ]
  },
  {
   "cell_type": "code",
   "execution_count": 56,
   "metadata": {},
   "outputs": [
    {
     "name": "stdout",
     "output_type": "stream",
     "text": [
      "dimension of scalar = 0\n",
      "dimension of vector = 1\n",
      "dimension of matrix1 = 2\n"
     ]
    }
   ],
   "source": [
    "print(\"dimension of scalar =\", scalar.ndim)\n",
    "print(\"dimension of vector =\", vector.ndim)\n",
    "print(\"dimension of matrix1 =\", matrix1.ndim)"
   ]
  },
  {
   "cell_type": "code",
   "execution_count": 5,
   "metadata": {},
   "outputs": [
    {
     "name": "stdout",
     "output_type": "stream",
     "text": [
      "7\n",
      "a Tensor with 2 elements cannot be converted to Scalar\n"
     ]
    }
   ],
   "source": [
    "print(scalar.item())\n",
    "try :\n",
    "    print(vector.iem())\n",
    "except :\n",
    "    print(\"a Tensor with 2 elements cannot be converted to Scalar\")"
   ]
  },
  {
   "cell_type": "markdown",
   "metadata": {},
   "source": []
  },
  {
   "cell_type": "code",
   "execution_count": 6,
   "metadata": {},
   "outputs": [
    {
     "name": "stdout",
     "output_type": "stream",
     "text": [
      "3\n",
      "torch.Size([1, 3, 3])\n"
     ]
    }
   ],
   "source": [
    "TENSOR = torch.tensor([[[1,2,3]\n",
    "                        ,[4,5,6]\n",
    "                        ,[7,8,9]]])\n",
    "\n",
    "print(TENSOR.ndim)\n",
    "print(TENSOR.shape)"
   ]
  },
  {
   "cell_type": "markdown",
   "metadata": {},
   "source": [
    "# 2. Random tensor"
   ]
  },
  {
   "cell_type": "markdown",
   "metadata": {},
   "source": [
    "We've established tensors represent some form of data.\n",
    "\n",
    "And machine learning models such as neural networks manipulate and seek patterns within tensors.\n",
    "\n",
    "But when building machine learning models with PyTorch, it's rare you'll create tensors by hand (like what we've being doing).\n",
    "\n",
    "Instead, a machine learning model often starts out with large random tensors of numbers and adjusts these random numbers as it works through data to better represent it.\n",
    "\n",
    "In essence:\n",
    "\n",
    "Start with random numbers -> look at data -> update random numbers -> look at data -> update random numbers..."
   ]
  },
  {
   "cell_type": "code",
   "execution_count": 62,
   "metadata": {},
   "outputs": [],
   "source": [
    "random_tensor = torch.rand(size = (3,4))\n"
   ]
  },
  {
   "cell_type": "code",
   "execution_count": 65,
   "metadata": {},
   "outputs": [
    {
     "name": "stdout",
     "output_type": "stream",
     "text": [
      "tensor([[0.1053, 0.2695, 0.3588, 0.1994],\n",
      "        [0.5472, 0.0062, 0.9516, 0.0753],\n",
      "        [0.8860, 0.5832, 0.3376, 0.8090]])\n",
      "\n",
      "torch.Size([3, 4])\n",
      "2\n"
     ]
    }
   ],
   "source": [
    "print(random_tensor)\n",
    "print()\n",
    "print(random_tensor.shape)\n",
    "print(random_tensor.ndim)"
   ]
  },
  {
   "cell_type": "code",
   "execution_count": 66,
   "metadata": {},
   "outputs": [],
   "source": [
    "random_image_size_tensor = torch.rand(size=(3,224,224))  # height, width, color chanels\n",
    "#print(random_image_size_tensor)\n"
   ]
  },
  {
   "cell_type": "code",
   "execution_count": 67,
   "metadata": {},
   "outputs": [
    {
     "name": "stdout",
     "output_type": "stream",
     "text": [
      "dim of random_image_size_tensor = 3\n",
      "shape of random_image_size_tensor = torch.Size([3, 224, 224])\n"
     ]
    }
   ],
   "source": [
    "print(\"dim of random_image_size_tensor =\", random_image_size_tensor.ndim)\n",
    "print(\"shape of random_image_size_tensor =\", random_image_size_tensor.shape)"
   ]
  },
  {
   "cell_type": "markdown",
   "metadata": {},
   "source": [
    "# 3. zero and one tensor"
   ]
  },
  {
   "cell_type": "code",
   "execution_count": 68,
   "metadata": {},
   "outputs": [
    {
     "name": "stdout",
     "output_type": "stream",
     "text": [
      "tensor([[0., 0., 0., 0.],\n",
      "        [0., 0., 0., 0.],\n",
      "        [0., 0., 0., 0.]])\n",
      "torch.float32\n"
     ]
    }
   ],
   "source": [
    "zero_torch = torch.zeros(size = (3,4))\n",
    "print(zero_torch)\n",
    "print(zero_torch.dtype)"
   ]
  },
  {
   "cell_type": "code",
   "execution_count": 69,
   "metadata": {},
   "outputs": [
    {
     "name": "stdout",
     "output_type": "stream",
     "text": [
      "tensor([[1., 1.],\n",
      "        [1., 1.]])\n",
      "torch.float32\n"
     ]
    }
   ],
   "source": [
    "one_tensor = torch.ones(size = (2,2))\n",
    "print(one_tensor)\n",
    "\n",
    "print(one_tensor.dtype)"
   ]
  },
  {
   "cell_type": "markdown",
   "metadata": {},
   "source": [
    "# 4. create a range of tensor"
   ]
  },
  {
   "cell_type": "code",
   "execution_count": 70,
   "metadata": {},
   "outputs": [
    {
     "name": "stderr",
     "output_type": "stream",
     "text": [
      "/var/folders/gx/tf0br2xj25g43r5nz32nklmh0000gn/T/ipykernel_23648/3983776290.py:3: UserWarning: torch.range is deprecated and will be removed in a future release because its behavior is inconsistent with Python's range builtin. Instead, use torch.arange, which produces values in [start, end).\n",
      "  torch_x1 = torch.range(0,10)\n"
     ]
    }
   ],
   "source": [
    "# use torch.range()\n",
    "#\n",
    "torch_x1 = torch.range(0,10)\n",
    "torch_x2 = torch.arange(0,10)\n",
    "torch_y = torch.arange(0,10,2)\n",
    "\n",
    "torch_z = torch_y"
   ]
  },
  {
   "cell_type": "code",
   "execution_count": 71,
   "metadata": {},
   "outputs": [
    {
     "name": "stdout",
     "output_type": "stream",
     "text": [
      "tensor([ 0.,  1.,  2.,  3.,  4.,  5.,  6.,  7.,  8.,  9., 10.])\n",
      "tensor([0, 1, 2, 3, 4, 5, 6, 7, 8, 9])\n",
      "tensor([0, 2, 4, 6, 8])\n",
      "tensor([0, 2, 4, 6, 8])\n"
     ]
    }
   ],
   "source": [
    "print(torch_x1)\n",
    "print(torch_x2)\n",
    "print(torch_y)\n",
    "print(torch_z)"
   ]
  },
  {
   "cell_type": "markdown",
   "metadata": {},
   "source": [
    "# 5. tensor data type"
   ]
  },
  {
   "cell_type": "markdown",
   "metadata": {},
   "source": [
    "Once you've created tensors (or someone else or a PyTorch module has created them for you), you might want to get some information from them.\n",
    "\n",
    "We've seen these before but three of the most common attributes you'll want to find out about tensors are:\n",
    "\n",
    "shape - what shape is the tensor? (some operations require specific shape rules)\n",
    "dtype - what datatype are the elements within the tensor stored in?\n",
    "device - what device is the tensor stored on? (usually GPU or CPU)"
   ]
  },
  {
   "cell_type": "code",
   "execution_count": 72,
   "metadata": {},
   "outputs": [
    {
     "data": {
      "text/plain": [
       "torch.float32"
      ]
     },
     "execution_count": 72,
     "metadata": {},
     "output_type": "execute_result"
    }
   ],
   "source": [
    "float32_tensor = torch.tensor([3.0,6.0,9.0])\n",
    "float32_tensor.dtype"
   ]
  },
  {
   "cell_type": "code",
   "execution_count": 73,
   "metadata": {},
   "outputs": [
    {
     "name": "stdout",
     "output_type": "stream",
     "text": [
      "torch.float16\n",
      "cpu\n",
      "False\n"
     ]
    }
   ],
   "source": [
    "float16_tensor = torch.tensor([3.0,6.0,9.0], dtype = torch.float16, device=None)\n",
    "print(float16_tensor.dtype)\n",
    "print(float16_tensor.device)            # default is none\n",
    "print(float16_tensor.requires_grad)     # default is False  # if True, operations performed on the tensor are recorded"
   ]
  },
  {
   "cell_type": "code",
   "execution_count": 17,
   "metadata": {},
   "outputs": [
    {
     "name": "stdout",
     "output_type": "stream",
     "text": [
      "tensor([ 9., 36., 81.])\n",
      "torch.float32\n"
     ]
    }
   ],
   "source": [
    "print(float16_tensor * float32_tensor)\n",
    "print((float16_tensor * float32_tensor).dtype)"
   ]
  },
  {
   "cell_type": "code",
   "execution_count": 18,
   "metadata": {},
   "outputs": [
    {
     "name": "stdout",
     "output_type": "stream",
     "text": [
      "tensor([ 6., 12., 18.])\n",
      "torch.float32\n"
     ]
    }
   ],
   "source": [
    "print(float16_tensor + float32_tensor)\n",
    "print((float16_tensor + float32_tensor).dtype)"
   ]
  },
  {
   "cell_type": "markdown",
   "metadata": {},
   "source": [
    "# 6. tensor operation"
   ]
  },
  {
   "cell_type": "markdown",
   "metadata": {},
   "source": [
    "These operations are often a wonderful dance between:\n",
    "\n",
    "Addition\n",
    "Substraction\n",
    "Multiplication (element-wise)\n",
    "Division\n",
    "Matrix multiplication"
   ]
  },
  {
   "cell_type": "code",
   "execution_count": 74,
   "metadata": {},
   "outputs": [
    {
     "data": {
      "text/plain": [
       "tensor([11, 12, 13])"
      ]
     },
     "execution_count": 74,
     "metadata": {},
     "output_type": "execute_result"
    }
   ],
   "source": [
    "tensor = torch.tensor([1,2,3])\n",
    "tensor += 10\n",
    "tensor"
   ]
  },
  {
   "cell_type": "code",
   "execution_count": 75,
   "metadata": {},
   "outputs": [
    {
     "data": {
      "text/plain": [
       "tensor([10, 20, 30])"
      ]
     },
     "execution_count": 75,
     "metadata": {},
     "output_type": "execute_result"
    }
   ],
   "source": [
    "tensor = torch.tensor([1,2,3])\n",
    "tensor *= 10\n",
    "tensor"
   ]
  },
  {
   "cell_type": "code",
   "execution_count": 76,
   "metadata": {},
   "outputs": [
    {
     "data": {
      "text/plain": [
       "tensor([-9, -8, -7])"
      ]
     },
     "execution_count": 76,
     "metadata": {},
     "output_type": "execute_result"
    }
   ],
   "source": [
    "tensor = torch.tensor([1,2,3])\n",
    "tensor -= 10\n",
    "tensor"
   ]
  },
  {
   "cell_type": "code",
   "execution_count": 77,
   "metadata": {},
   "outputs": [
    {
     "data": {
      "text/plain": [
       "tensor([0.1000, 0.2000, 0.3000])"
      ]
     },
     "execution_count": 77,
     "metadata": {},
     "output_type": "execute_result"
    }
   ],
   "source": [
    "tensor = torch.tensor([1,2,3])\n",
    "tensor = tensor/10\n",
    "tensor"
   ]
  },
  {
   "cell_type": "code",
   "execution_count": 78,
   "metadata": {},
   "outputs": [
    {
     "name": "stdout",
     "output_type": "stream",
     "text": [
      "tensor(14)\n"
     ]
    }
   ],
   "source": [
    "#vector dot product\n",
    "\n",
    "vector = torch.tensor([1,2,3])\n",
    "print(torch.matmul(vector,vector))"
   ]
  },
  {
   "cell_type": "code",
   "execution_count": 79,
   "metadata": {},
   "outputs": [
    {
     "name": "stdout",
     "output_type": "stream",
     "text": [
      "tensor([1, 2, 3])\n",
      "tensor([[1, 2, 3],\n",
      "        [4, 5, 6],\n",
      "        [7, 8, 9]])\n",
      "tensor([[ 1,  4,  9],\n",
      "        [ 4, 10, 18],\n",
      "        [ 7, 16, 27]])\n"
     ]
    }
   ],
   "source": [
    "# matrix multiplication\n",
    "\n",
    "vector = torch.tensor([1,2,3])\n",
    "matrix = torch.tensor([[1,2,3],[4,5,6],[7,8,9]])\n",
    "print(vector)\n",
    "print(matrix)\n",
    "print(vector * matrix)"
   ]
  },
  {
   "cell_type": "code",
   "execution_count": 80,
   "metadata": {},
   "outputs": [
    {
     "name": "stdout",
     "output_type": "stream",
     "text": [
      "tensor([[ 7, 10],\n",
      "        [ 8, 11],\n",
      "        [ 9, 12]])\n"
     ]
    }
   ],
   "source": [
    "matrix_A = torch.tensor([[7,8,9],[10,11,12]])\n",
    "print(matrix_A.T)"
   ]
  },
  {
   "cell_type": "markdown",
   "metadata": {},
   "source": [
    "# 7. finding mean max sum etc."
   ]
  },
  {
   "cell_type": "code",
   "execution_count": 81,
   "metadata": {},
   "outputs": [
    {
     "name": "stdout",
     "output_type": "stream",
     "text": [
      "tensor(0)\n"
     ]
    }
   ],
   "source": [
    "x = torch.arange(0,100,10)\n",
    "print(torch.min(x))"
   ]
  },
  {
   "cell_type": "code",
   "execution_count": 82,
   "metadata": {},
   "outputs": [
    {
     "data": {
      "text/plain": [
       "'\\n---------------------------------------------------------------------------\\nRuntimeError                              Traceback (most recent call last)\\n in \\n----> 1 torch.mean(x)\\n\\nRuntimeError: mean(): could not infer output dtype. Input dtype must be either a floating point or complex dtype. Got: Long\\n'"
      ]
     },
     "execution_count": 82,
     "metadata": {},
     "output_type": "execute_result"
    }
   ],
   "source": [
    "#torch.mean(x)\n",
    "\n",
    "# if you run this code\n",
    "'''\n",
    "---------------------------------------------------------------------------\n",
    "RuntimeError                              Traceback (most recent call last)\n",
    " in \n",
    "----> 1 torch.mean(x)\n",
    "\n",
    "RuntimeError: mean(): could not infer output dtype. Input dtype must be either a floating point or complex dtype. Got: Long\n",
    "'''"
   ]
  },
  {
   "cell_type": "code",
   "execution_count": 84,
   "metadata": {},
   "outputs": [
    {
     "data": {
      "text/plain": [
       "torch.int64"
      ]
     },
     "execution_count": 84,
     "metadata": {},
     "output_type": "execute_result"
    }
   ],
   "source": [
    "x.dtype\n",
    "#torch.int64 is Long which has no function .mean"
   ]
  },
  {
   "cell_type": "code",
   "execution_count": 85,
   "metadata": {},
   "outputs": [
    {
     "name": "stdout",
     "output_type": "stream",
     "text": [
      "tensor(45.)\n"
     ]
    }
   ],
   "source": [
    "# Long to float32\n",
    "y = x.type(torch.float32)\n",
    "print(torch.mean(y))"
   ]
  },
  {
   "cell_type": "markdown",
   "metadata": {},
   "source": [
    "# 8. finding position min max"
   ]
  },
  {
   "cell_type": "code",
   "execution_count": 86,
   "metadata": {},
   "outputs": [
    {
     "name": "stdout",
     "output_type": "stream",
     "text": [
      "tensor([ 0, 10, 20, 30, 40, 50, 60, 70, 80, 90])\n",
      "tensor(0)\n",
      "tensor(9)\n",
      "\n",
      "tensor(0)\n",
      "tensor(90)\n"
     ]
    }
   ],
   "source": [
    "print(x)\n",
    "print(x.argmin())\n",
    "print(x.argmax())\n",
    "print()\n",
    "print(x[0])\n",
    "print(x[9])"
   ]
  },
  {
   "cell_type": "markdown",
   "metadata": {},
   "source": [
    "# 9. reshaping stacking squeezing and unsqueezing tensor"
   ]
  },
  {
   "cell_type": "markdown",
   "metadata": {},
   "source": [
    "\n",
    "\n",
    "\n"
   ]
  },
  {
   "cell_type": "code",
   "execution_count": 31,
   "metadata": {},
   "outputs": [
    {
     "name": "stdout",
     "output_type": "stream",
     "text": [
      "tensor([ 0,  2,  4,  6,  8, 10]) torch.Size([6])\n",
      "\n",
      "tensor([[ 0,  2,  4],\n",
      "        [ 6,  8, 10]]) torch.Size([2, 3])\n"
     ]
    }
   ],
   "source": [
    "# reshape\n",
    "x = torch.arange(0,12,2)\n",
    "print(x,x.shape)\n",
    "print()\n",
    "\n",
    "x_reshaped = x.reshape(2,3)\n",
    "print(x_reshaped,x_reshaped.shape)"
   ]
  },
  {
   "cell_type": "code",
   "execution_count": 87,
   "metadata": {},
   "outputs": [
    {
     "name": "stdout",
     "output_type": "stream",
     "text": [
      "tensor([ 0, 10, 20, 30, 40, 50, 60, 70, 80, 90])\n",
      "\n",
      "tensor([[ 0, 10, 20, 30, 40, 50, 60, 70, 80, 90],\n",
      "        [ 0, 10, 20, 30, 40, 50, 60, 70, 80, 90],\n",
      "        [ 0, 10, 20, 30, 40, 50, 60, 70, 80, 90],\n",
      "        [ 0, 10, 20, 30, 40, 50, 60, 70, 80, 90]])\n",
      "\n",
      "tensor([[ 0,  0,  0,  0],\n",
      "        [10, 10, 10, 10],\n",
      "        [20, 20, 20, 20],\n",
      "        [30, 30, 30, 30],\n",
      "        [40, 40, 40, 40],\n",
      "        [50, 50, 50, 50],\n",
      "        [60, 60, 60, 60],\n",
      "        [70, 70, 70, 70],\n",
      "        [80, 80, 80, 80],\n",
      "        [90, 90, 90, 90]])\n"
     ]
    }
   ],
   "source": [
    "print(x)\n",
    "print()\n",
    "\n",
    "x_stacked1 = torch.stack([x,x,x,x], dim=0)\n",
    "print(x_stacked1)\n",
    "print()\n",
    "\n",
    "x_stacked2 = torch.stack([x,x,x,x], dim=1)\n",
    "print(x_stacked2)\n"
   ]
  },
  {
   "cell_type": "code",
   "execution_count": null,
   "metadata": {},
   "outputs": [],
   "source": []
  },
  {
   "cell_type": "code",
   "execution_count": 88,
   "metadata": {},
   "outputs": [
    {
     "name": "stdout",
     "output_type": "stream",
     "text": [
      "tensor([[1, 2, 3],\n",
      "        [4, 5, 6]])\n"
     ]
    }
   ],
   "source": [
    "a = torch.tensor([1, 2, 3])\n",
    "b = torch.tensor([4, 5, 6])\n",
    "print(torch.vstack((a,b)))"
   ]
  },
  {
   "cell_type": "code",
   "execution_count": 89,
   "metadata": {},
   "outputs": [
    {
     "name": "stdout",
     "output_type": "stream",
     "text": [
      "x.size() is torch.Size([2, 1, 2, 1, 2])\n",
      "y.size() is  torch.Size([2, 2, 2])\n",
      "\n",
      "y.size() is  torch.Size([2, 1, 2, 1, 2])\n",
      "y.size() is  torch.Size([2, 2, 1, 2])\n",
      "y.size() is  torch.Size([2, 2, 2])\n"
     ]
    }
   ],
   "source": [
    "x = torch.zeros(2, 1, 2, 1, 2)\n",
    "print(\"x.size() is\", x.size())\n",
    "y = torch.squeeze(x)\n",
    "print(\"y.size() is \",y.size()) \n",
    "print()\n",
    "\n",
    "\n",
    "\n",
    "y = torch.squeeze(x, 0)\n",
    "print(\"y.size() is \",y.size()) \n",
    "y = torch.squeeze(x, 1)\n",
    "print(\"y.size() is \",y.size()) \n",
    "y = torch.squeeze(x, (1, 2, 3))\n",
    "print(\"y.size() is \",y.size()) \n"
   ]
  },
  {
   "cell_type": "markdown",
   "metadata": {},
   "source": [
    "# 10. indexing, selecting data"
   ]
  },
  {
   "cell_type": "code",
   "execution_count": 90,
   "metadata": {},
   "outputs": [
    {
     "name": "stdout",
     "output_type": "stream",
     "text": [
      "tensor([[[1, 2, 3],\n",
      "         [4, 5, 6],\n",
      "         [7, 8, 9]]])\n",
      "\n",
      "tensor([[1, 2, 3],\n",
      "        [4, 5, 6],\n",
      "        [7, 8, 9]])\n",
      "\n",
      "tensor([1, 2, 3])\n",
      "\n",
      "tensor([[1, 2, 3]])\n"
     ]
    }
   ],
   "source": [
    "x = torch.arange(1,10).reshape(1,3,3)\n",
    "print(x)\n",
    "print()\n",
    "\n",
    "print(x[0])\n",
    "print()\n",
    "\n",
    "print(x[0][0])\n",
    "print()\n",
    "\n",
    "print(x[:,0])\n"
   ]
  },
  {
   "cell_type": "code",
   "execution_count": 91,
   "metadata": {},
   "outputs": [
    {
     "name": "stdout",
     "output_type": "stream",
     "text": [
      "tensor([[2, 5, 8]])\n",
      "tensor([1, 2, 3])\n",
      "tensor([[3, 6, 9]])\n"
     ]
    }
   ],
   "source": [
    "print(x[:, :, 1])\n",
    "print(x[0, 0, :])\n",
    "print(x[:, :, 2])"
   ]
  },
  {
   "cell_type": "markdown",
   "metadata": {},
   "source": [
    "# 11. pytorch tensor and numpy"
   ]
  },
  {
   "cell_type": "code",
   "execution_count": 92,
   "metadata": {},
   "outputs": [
    {
     "name": "stdout",
     "output_type": "stream",
     "text": [
      "[0 1 2 3 4 5 6 7 8 9] int64\n",
      "tensor([0, 1, 2, 3, 4, 5, 6, 7, 8, 9]) torch.int64\n"
     ]
    }
   ],
   "source": [
    "array = np.arange(0,10)\n",
    "tensor = torch.from_numpy(array)\n",
    "\n",
    "print(array, array.dtype)\n",
    "print(tensor, tensor.dtype)\n"
   ]
  },
  {
   "cell_type": "code",
   "execution_count": 93,
   "metadata": {},
   "outputs": [
    {
     "name": "stdout",
     "output_type": "stream",
     "text": [
      "tensor([1., 1., 1., 1., 1., 1., 1.])\n",
      "\n",
      "[1. 1. 1. 1. 1. 1. 1.]\n"
     ]
    }
   ],
   "source": [
    "# tensor to numpy\n",
    "tensor = torch.ones(7)\n",
    "numpy_tensor = tensor.numpy()\n",
    "print(tensor)\n",
    "print()\n",
    "\n",
    "print(numpy_tensor)"
   ]
  },
  {
   "cell_type": "markdown",
   "metadata": {},
   "source": [
    "# 12. reproducibility"
   ]
  },
  {
   "cell_type": "code",
   "execution_count": 94,
   "metadata": {},
   "outputs": [
    {
     "name": "stdout",
     "output_type": "stream",
     "text": [
      "tensor([[0.1336, 0.9666, 0.9754],\n",
      "        [0.8474, 0.8988, 0.1105],\n",
      "        [0.4563, 0.9719, 0.3968]])\n"
     ]
    }
   ],
   "source": [
    "x = torch.rand(size=(3,3))\n",
    "print(x)"
   ]
  },
  {
   "cell_type": "code",
   "execution_count": 95,
   "metadata": {},
   "outputs": [
    {
     "name": "stdout",
     "output_type": "stream",
     "text": [
      "Tensor A:\n",
      "tensor([[0.1496, 0.4743, 0.9973, 0.4436],\n",
      "        [0.9726, 0.5194, 0.5337, 0.7050],\n",
      "        [0.3362, 0.7891, 0.1694, 0.1800]])\n",
      "\n",
      "Tensor B:\n",
      "tensor([[0.7177, 0.6988, 0.5510, 0.2485],\n",
      "        [0.8518, 0.0963, 0.1338, 0.2741],\n",
      "        [0.6142, 0.8973, 0.3629, 0.1748]])\n",
      "\n",
      "Does Tensor A equal Tensor B? (anywhere)\n"
     ]
    },
    {
     "data": {
      "text/plain": [
       "tensor([[False, False, False, False],\n",
       "        [False, False, False, False],\n",
       "        [False, False, False, False]])"
      ]
     },
     "execution_count": 95,
     "metadata": {},
     "output_type": "execute_result"
    }
   ],
   "source": [
    "import torch\n",
    "\n",
    "# Create two random tensors\n",
    "random_tensor_A = torch.rand(3, 4)\n",
    "random_tensor_B = torch.rand(3, 4)\n",
    "\n",
    "print(f\"Tensor A:\\n{random_tensor_A}\\n\")\n",
    "print(f\"Tensor B:\\n{random_tensor_B}\\n\")\n",
    "print(f\"Does Tensor A equal Tensor B? (anywhere)\")\n",
    "random_tensor_A == random_tensor_B"
   ]
  },
  {
   "cell_type": "code",
   "execution_count": 96,
   "metadata": {},
   "outputs": [
    {
     "name": "stdout",
     "output_type": "stream",
     "text": [
      "Tensor C:\n",
      "tensor([[0.8823, 0.9150, 0.3829, 0.9593],\n",
      "        [0.3904, 0.6009, 0.2566, 0.7936],\n",
      "        [0.9408, 0.1332, 0.9346, 0.5936]])\n",
      "\n",
      "Tensor D:\n",
      "tensor([[0.8823, 0.9150, 0.3829, 0.9593],\n",
      "        [0.3904, 0.6009, 0.2566, 0.7936],\n",
      "        [0.9408, 0.1332, 0.9346, 0.5936]])\n",
      "\n",
      "Does Tensor C equal Tensor D? (anywhere)\n"
     ]
    },
    {
     "data": {
      "text/plain": [
       "tensor([[True, True, True, True],\n",
       "        [True, True, True, True],\n",
       "        [True, True, True, True]])"
      ]
     },
     "execution_count": 96,
     "metadata": {},
     "output_type": "execute_result"
    }
   ],
   "source": [
    "import torch\n",
    "import random\n",
    "\n",
    "# # Set the random seed\n",
    "RANDOM_SEED=42 # try changing this to different values and see what happens to the numbers below\n",
    "torch.manual_seed(seed=RANDOM_SEED) \n",
    "random_tensor_C = torch.rand(3, 4)\n",
    "\n",
    "# Have to reset the seed every time a new rand() is called \n",
    "# Without this, tensor_D would be different to tensor_C \n",
    "torch.random.manual_seed(seed=RANDOM_SEED) # try commenting this line out and seeing what happens\n",
    "random_tensor_D = torch.rand(3, 4)\n",
    "\n",
    "print(f\"Tensor C:\\n{random_tensor_C}\\n\")\n",
    "print(f\"Tensor D:\\n{random_tensor_D}\\n\")\n",
    "print(f\"Does Tensor C equal Tensor D? (anywhere)\")\n",
    "random_tensor_C == random_tensor_D"
   ]
  },
  {
   "cell_type": "code",
   "execution_count": null,
   "metadata": {},
   "outputs": [],
   "source": []
  },
  {
   "cell_type": "markdown",
   "metadata": {},
   "source": [
    "# 13. GPU on mac (cuda is not available so using \"mps\" instead)"
   ]
  },
  {
   "cell_type": "markdown",
   "metadata": {},
   "source": [
    "you need to install first\n",
    "https://sebastianraschka.com/blog/2022/pytorch-m1-gpu.html\n",
    "\n"
   ]
  },
  {
   "cell_type": "code",
   "execution_count": 97,
   "metadata": {},
   "outputs": [
    {
     "data": {
      "text/plain": [
       "False"
      ]
     },
     "execution_count": 97,
     "metadata": {},
     "output_type": "execute_result"
    }
   ],
   "source": [
    "torch.cuda.is_available()"
   ]
  },
  {
   "cell_type": "code",
   "execution_count": 98,
   "metadata": {},
   "outputs": [
    {
     "data": {
      "text/plain": [
       "True"
      ]
     },
     "execution_count": 98,
     "metadata": {},
     "output_type": "execute_result"
    }
   ],
   "source": [
    "torch.has_mps"
   ]
  },
  {
   "cell_type": "code",
   "execution_count": 99,
   "metadata": {},
   "outputs": [],
   "source": [
    "device = torch.device('cuda' if torch.cuda.is_available() else 'mps' if torch.has_mps else 'cpu')"
   ]
  },
  {
   "cell_type": "code",
   "execution_count": 100,
   "metadata": {},
   "outputs": [
    {
     "data": {
      "text/plain": [
       "device(type='mps')"
      ]
     },
     "execution_count": 100,
     "metadata": {},
     "output_type": "execute_result"
    }
   ],
   "source": [
    "device"
   ]
  },
  {
   "cell_type": "code",
   "execution_count": 101,
   "metadata": {},
   "outputs": [
    {
     "name": "stdout",
     "output_type": "stream",
     "text": [
      "torch.float16\n",
      "mps:0\n",
      "False\n"
     ]
    }
   ],
   "source": [
    "float16_tensor = torch.tensor([3.0,6.0,9.0], dtype = torch.float16, device='mps')\n",
    "print(float16_tensor.dtype)\n",
    "print(float16_tensor.device)            # default is none\n",
    "print(float16_tensor.requires_grad)     # default is False  # if True, operations performed on the tensor are recorded"
   ]
  },
  {
   "cell_type": "code",
   "execution_count": null,
   "metadata": {},
   "outputs": [],
   "source": []
  },
  {
   "cell_type": "markdown",
   "metadata": {},
   "source": [
    "# 14. putting tensors and models to gpu (only for mac) mps not cuda"
   ]
  },
  {
   "cell_type": "code",
   "execution_count": 47,
   "metadata": {},
   "outputs": [
    {
     "name": "stdout",
     "output_type": "stream",
     "text": [
      "mps\n"
     ]
    }
   ],
   "source": [
    "device = torch.device('cuda' if torch.cuda.is_available() else 'mps' if torch.has_mps else 'cpu')\n",
    "print(device)"
   ]
  },
  {
   "cell_type": "code",
   "execution_count": 48,
   "metadata": {},
   "outputs": [
    {
     "name": "stdout",
     "output_type": "stream",
     "text": [
      "tensor([1, 2, 3]) cpu\n"
     ]
    }
   ],
   "source": [
    "# create a tensor (default is on cpu)\n",
    "\n",
    "tensor = torch.tensor([1,2,3])\n",
    "\n",
    "print(tensor, tensor.device)"
   ]
  },
  {
   "cell_type": "code",
   "execution_count": 49,
   "metadata": {},
   "outputs": [
    {
     "name": "stdout",
     "output_type": "stream",
     "text": [
      "tensor([1, 2, 3], device='mps:0') mps:0\n"
     ]
    }
   ],
   "source": [
    "tensor_on_gpu = tensor.to(device)\n",
    "print(tensor_on_gpu, tensor_on_gpu.device)"
   ]
  },
  {
   "cell_type": "code",
   "execution_count": 50,
   "metadata": {},
   "outputs": [
    {
     "name": "stdout",
     "output_type": "stream",
     "text": [
      "tensor([1, 2, 3, 4]) cpu\n"
     ]
    }
   ],
   "source": [
    "tensor2 = torch.tensor([1,2,3,4])\n",
    "\n",
    "print(tensor2, tensor.device)"
   ]
  },
  {
   "cell_type": "code",
   "execution_count": 51,
   "metadata": {},
   "outputs": [
    {
     "name": "stdout",
     "output_type": "stream",
     "text": [
      "tensor([1, 2, 3, 4], device='mps:0') mps:0\n"
     ]
    }
   ],
   "source": [
    "tensor_on_gpu2 = tensor2.to(device)\n",
    "print(tensor_on_gpu2, tensor_on_gpu2.device)"
   ]
  },
  {
   "cell_type": "markdown",
   "metadata": {},
   "source": [
    "# 15. moving tensor back to cpu"
   ]
  },
  {
   "cell_type": "code",
   "execution_count": 52,
   "metadata": {},
   "outputs": [
    {
     "name": "stdout",
     "output_type": "stream",
     "text": [
      "tensor([1, 2, 3]) cpu\n"
     ]
    }
   ],
   "source": [
    "tensor_back_on_cpu = tensor_on_gpu.cpu()\n",
    "print(tensor_back_on_cpu, tensor_back_on_cpu.device)"
   ]
  }
 ],
 "metadata": {
  "kernelspec": {
   "display_name": "base",
   "language": "python",
   "name": "python3"
  },
  "language_info": {
   "codemirror_mode": {
    "name": "ipython",
    "version": 3
   },
   "file_extension": ".py",
   "mimetype": "text/x-python",
   "name": "python",
   "nbconvert_exporter": "python",
   "pygments_lexer": "ipython3",
   "version": "3.10.2"
  },
  "orig_nbformat": 4
 },
 "nbformat": 4,
 "nbformat_minor": 2
}
